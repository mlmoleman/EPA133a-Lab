{
 "cells": [
  {
   "cell_type": "code",
   "execution_count": 240,
   "id": "005e199c-d206-4f68-9659-31acd9ee8582",
   "metadata": {
    "tags": []
   },
   "outputs": [],
   "source": [
    "# import libraries\n",
    "import pandas as pd\n",
    "import random\n",
    "import os"
   ]
  },
  {
   "cell_type": "markdown",
   "id": "d1615e3c-6b6e-437b-8fb0-685137ccca1b",
   "metadata": {},
   "source": [
    "## Convert Data function"
   ]
  },
  {
   "cell_type": "code",
   "execution_count": 241,
   "id": "490379d5-a133-4277-839c-fc4d30bb856d",
   "metadata": {
    "tags": []
   },
   "outputs": [],
   "source": [
    "import pandas as pd\n",
    "import random\n",
    "\n",
    "\n",
    "def convert_data():\n",
    "    \"\"\"\n",
    "    Converts data conform demo data files.\n",
    "    \"\"\"\n",
    "\n",
    "    # import data\n",
    "    path=os.path.normpath(os.getcwd() + os.sep + os.pardir)\n",
    "    df = pd.read_excel(path+'\\\\data\\\\bridges.xlsx')\n",
    "    \n",
    "    # slice data information\n",
    "    df = df[[\"road\", \"km\", \"type\", \"name\", \"length\", \"condition\", \"lat\", \"lon\"]]\n",
    "    \n",
    "    # HANDLING MISSING VALUES\n",
    "    \n",
    "    \n",
    "    # change NaN values in name with dot i.e. '.'\n",
    "    df['name'].fillna('.', inplace=True)\n",
    "    \n",
    "    # check NaN values in other columns, only length has missing values\n",
    "    df.isnull().sum(axis = 0)\n",
    "    \n",
    "    # assign new dataframe to missing values\n",
    "    missing = df[df.length.isnull()]\n",
    "    \n",
    "    # for some missing values, missing values can be retrieved from bridges with same chainage, \n",
    "    # get length of these bridges and replace missing value with this value. \n",
    "    for index in missing.index:  \n",
    "        if df.loc[index, 'km'] == df.loc[index-1, 'km']: \n",
    "            # assign length of bridge with same chainage to variable new_length\n",
    "            new_length = df.loc[index-1, 'length']\n",
    "            # replace missing value with new length\n",
    "            df.loc[index, 'length'] = new_length\n",
    "\n",
    "        elif df.loc[index, 'km'] == df.loc[index+1, 'km']: \n",
    "            new_length = df.loc[index+1, 'length']\n",
    "            df.loc[index, 'length'] = new_length\n",
    "        \n",
    "    # update missing value dataframe\n",
    "    updated_missing = df[df.length.isnull()]\n",
    "    \n",
    "    # for the left-over missing values, replace length with average length of bridges for specific road\n",
    "    for index in missing.index:\n",
    "        road_name = df.loc[index, 'road']\n",
    "        road_subset = df[df['road'] == road_name]\n",
    "        average_length = road_subset.loc[:, 'length'].mean()\n",
    "        df.loc[index, 'length'] = average_length\n",
    "      \n",
    "    \n",
    "    # HANDLING DUPLICATES\n",
    "    \n",
    "    # change type of column first\n",
    "    df['name'] = df['name'].astype(str)\n",
    "\n",
    "    # replace modifications of right/left in bridge names\n",
    "    df['name'] = df['name'].apply(lambda x: x.replace(')', ''))\n",
    "    df['name'] = df['name'].apply(lambda x: x.replace('RIGHT', 'R'))\n",
    "    df['name'] = df['name'].apply(lambda x: x.replace('LEFT', 'L'))\n",
    "    df['name'] = df['name'].apply(lambda x: x.replace('Right', 'R'))\n",
    "    df['name'] = df['name'].apply(lambda x: x.replace('Left', 'L'))\n",
    "    \n",
    "    # strip the trailing whitespaces \n",
    "    df['name'] = df['name'].apply(lambda x: x.strip())\n",
    "    \n",
    "    # define dataframe for duplicates\n",
    "    duplicateRows = df[df['road'] == 'N1']\n",
    "    # subset based on latitude and longitude\n",
    "    duplicateRows = duplicateRows[duplicateRows.duplicated(subset=['lat', 'lon'])]\n",
    "    # sort by chainage\n",
    "    duplicateRows.sort_values(by=['km'])\n",
    "    # change condition from letters to numbers in order to compare them\n",
    "    df['conditionNum'] = 0\n",
    "    df.loc[df['condition'] == 'A', 'conditionNum'] = 1\n",
    "    df.loc[df['condition'] == 'B', 'conditionNum'] = 2\n",
    "    df.loc[df['condition'] == 'C', 'conditionNum'] = 3\n",
    "    df.loc[df['condition'] == 'D', 'conditionNum'] = 4\n",
    "    # initialize a list for indexes to remove after running for-loop\n",
    "    remove_index = []\n",
    "\n",
    "    # for index in dataframe with duplicates\n",
    "    for index in duplicateRows.index: \n",
    "        # retrieve latitude and longitude\n",
    "        latitude = df.loc[index, 'lat'] \n",
    "        longitude = df.loc[index, 'lon']\n",
    "\n",
    "        # define a subset of duplicates based on the latitude and longitude\n",
    "        subset = df.loc[((df['lat'] == latitude) & (df['lon'] == longitude))] \n",
    "\n",
    "        # define lists for bridges with left, right, or neither in their name\n",
    "        contains_left = []\n",
    "        contains_right = []\n",
    "        contains_none = []\n",
    "\n",
    "        for index in subset.index: \n",
    "            # for every row in subset, retrieve condition and assign to set\n",
    "            condition = subset.loc[index, 'conditionNum']\n",
    "            # define the set with both index and condition\n",
    "            condition_set = (index, condition)\n",
    "\n",
    "            # retrieve name and whether L or R in name\n",
    "            name = subset.loc[index, 'name']\n",
    "            last_letter = name[-1:]\n",
    "            # check whether last letter is R, L, or something else\n",
    "            if last_letter == 'R': \n",
    "                contains_right.append(condition_set)\n",
    "\n",
    "            elif last_letter == 'L': \n",
    "                contains_left.append(condition_set)\n",
    "\n",
    "            else: \n",
    "                contains_none.append(condition_set)   \n",
    "\n",
    "        # when no left and right in name, but other letters\n",
    "        if len(contains_left) == 0 and len(contains_right) == 0 and len(contains_none) > 0: \n",
    "            # check whether conditions of bridges are equal\n",
    "            if contains_none[0][1] == contains_none[1][1]: \n",
    "                # if so, pick random index and append to list\n",
    "                random_none = random.choice(contains_none)\n",
    "                remove_index.append(random_none[0])\n",
    "\n",
    "            # if condition of one is greater than other, remove the highest one\n",
    "            # better be safe than sorry\n",
    "            elif contains_none[0][1] < contains_none[1][1]: \n",
    "                remove_index.append(contains_none[0][0])\n",
    "\n",
    "            elif contains_none[0][1] > contains_none[1][1]: \n",
    "                remove_index.append(contains_none[1][0])\n",
    "\n",
    "        # capitalized one is often an updated version, we assume. Hence, remove the left and right\n",
    "        if len(contains_left) == 1 and len(contains_right) == 1 and len(contains_none) == 1: \n",
    "            for element in contains_left: \n",
    "                remove_index.append(element[0])\n",
    "            for element in contains_right: \n",
    "                remove_index.append(element[0])\n",
    "\n",
    "        # if two times left\n",
    "        if len(contains_left) == 2: \n",
    "            # check whether conditions are equal\n",
    "            if contains_left[0][1] == contains_left[1][1]: \n",
    "                # then randomly pick one\n",
    "                random_left = random.choice(contains_left)\n",
    "                remove_index.append(random_left[0])\n",
    "\n",
    "            # else check which condition is better, remove that one\n",
    "            elif contains_left[0][1] < contains_left[1][1]: \n",
    "                remove_index.append(contains_left[0][0])\n",
    "\n",
    "            elif contains_left[0][1] > contains_left[1][1]: \n",
    "                remove_index.append(contains_left[1][0])\n",
    "\n",
    "        # same structure as with left, now for right\n",
    "        if len(contains_right) == 2: \n",
    "            if contains_right[0][1] == contains_right[1][1]: \n",
    "                random_left = random.choice(contains_right)\n",
    "                remove_index.append(random_left[0])\n",
    "\n",
    "            elif contains_right[0][1] < contains_right[1][1]: \n",
    "                remove_index.append(contains_right[0][0])\n",
    "\n",
    "            elif contains_right[0][1] > contains_right[1][1]: \n",
    "                remove_index.append(contains_right[1][0])\n",
    "\n",
    "        # if left and capital, remove left one\n",
    "        if len(contains_left) == 1 and len(contains_none) == 1: \n",
    "            for element in contains_left: \n",
    "                remove_index.append(element[0])\n",
    "\n",
    "        # if right and capital, remove right one\n",
    "        if len(contains_right) == 1 and len(contains_none) == 1: \n",
    "            for element in contains_right: \n",
    "                remove_index.append(element[0])\n",
    "\n",
    "        # if both right and left, keep both \n",
    "        if len(contains_right) == 1 and len(contains_left) == 1 and len(contains_none) == 0: \n",
    "            continue\n",
    "\n",
    "    # only retrieve unique indexes in list, otherwise we remove all\n",
    "    used = set()\n",
    "    unique_indexes = [x for x in remove_index if x not in used and (used.add(x) or True)]\n",
    "\n",
    "    # remove all the indexes in removing list\n",
    "    for element in unique_indexes: \n",
    "        df = df.drop(index = element)\n",
    "        \n",
    "        \n",
    "    # FORMAT DATAFRAME CONFORM DEMO FILES\n",
    "    \n",
    "    # reset index\n",
    "    df = df.reset_index()\n",
    "    \n",
    "    # drop unnecessary columns\n",
    "    df = df.drop(\"conditionNum\", axis='columns')\n",
    "    df = df.drop(\"index\", axis='columns')\n",
    "    \n",
    "    # add model type\n",
    "    df['model_type'] = 'bridge'\n",
    "    \n",
    "    # import roads to get source and sink\n",
    "    df_roads = pd.read_csv('../data/roads.csv')\n",
    "    # select only N1 data entries\n",
    "    df_roads = df_roads[df_roads['road'] == 'N1']\n",
    "    \n",
    "    # assign first column to new dataframe\n",
    "    df_roads_0 = df_roads[0:1]\n",
    "    # retrieve source characteristics\n",
    "    road_name = df_roads_0.road[0]\n",
    "    km = df_roads_0.chainage[0]\n",
    "    lrp = df_roads_0.lrp[0]\n",
    "    latitude = df_roads_0.lat[0]\n",
    "    longitude = df_roads_0.lon[0]\n",
    "    type_of_bridge = 'source'\n",
    "    bridge_name = 'source'\n",
    "    length = 0\n",
    "    condition = 'A'\n",
    "    \n",
    "    # subset dataframe based on N1 road\n",
    "    df = df[df['road'] == 'N1']\n",
    "    \n",
    "    # adding new row\n",
    "    df.loc[-1] = [road_name, km, type_of_bridge, bridge_name, length, \n",
    "                  condition, latitude, longitude, type_of_bridge]  \n",
    "    # shifting index\n",
    "    df.index = df.index + 1  \n",
    "    # sort index\n",
    "    df.sort_index(inplace=True) \n",
    "    \n",
    "    # assign last column to new dataframe\n",
    "    df_roads_last = df_roads[-1::]\n",
    "    # reset index\n",
    "    df_roads_last = df_roads_last.reset_index()\n",
    "    # retrieve sink characteristics\n",
    "    road_name = df_roads_last.loc[0, 'road']\n",
    "    km = df_roads_last.loc[0, 'chainage']\n",
    "    lrp = df_roads_last.loc[0, 'lrp']\n",
    "    latitude = df_roads_last.loc[0, 'lat']\n",
    "    longitude = df_roads_last.loc[0, 'lon']\n",
    "    type_of_bridge = 'sink'\n",
    "    bridge_name = 'sink'\n",
    "    length = 0\n",
    "    condition = 'A'\n",
    "    \n",
    "    # adding new row\n",
    "    df.loc[len(df)] = [road_name, km, type_of_bridge, bridge_name, length, \n",
    "              condition, latitude, longitude, type_of_bridge]\n",
    "    # reset index\n",
    "    df.sort_index(inplace=True) \n",
    "    \n",
    "    # convert dataframe to csv\n",
    "    df.to_csv('../data/bridges_cleaned.csv')"
   ]
  },
  {
   "cell_type": "markdown",
   "id": "be4dff3d-d645-43b9-9fc5-a4c6031dd9d0",
   "metadata": {},
   "source": [
    "## Missing Value Management"
   ]
  },
  {
   "cell_type": "code",
   "execution_count": 242,
   "id": "e2b7db29-7350-4041-93b8-20f2a3b84dca",
   "metadata": {
    "tags": []
   },
   "outputs": [],
   "source": [
    "# import data\n",
    "path=os.path.normpath(os.getcwd() + os.sep + os.pardir)\n",
    "df = pd.read_excel(path+'\\\\data\\\\bridges.xlsx')\n",
    "# df = pd.read_excel('../data/bridges.xlsx')"
   ]
  },
  {
   "cell_type": "code",
   "execution_count": 243,
   "id": "a1ad09bd-3c0d-4d61-bce1-f04e1a87531a",
   "metadata": {
    "tags": []
   },
   "outputs": [],
   "source": [
    "# slice data information\n",
    "df = df[[\"road\", \"km\", \"type\", \"name\", \"length\", \"condition\", \"lat\", \"lon\"]]"
   ]
  },
  {
   "cell_type": "code",
   "execution_count": 244,
   "id": "f53ae5ca-9a61-4855-b7ac-bb61251f87a6",
   "metadata": {
    "tags": []
   },
   "outputs": [
    {
     "data": {
      "text/html": [
       "<div>\n",
       "<style scoped>\n",
       "    .dataframe tbody tr th:only-of-type {\n",
       "        vertical-align: middle;\n",
       "    }\n",
       "\n",
       "    .dataframe tbody tr th {\n",
       "        vertical-align: top;\n",
       "    }\n",
       "\n",
       "    .dataframe thead th {\n",
       "        text-align: right;\n",
       "    }\n",
       "</style>\n",
       "<table border=\"1\" class=\"dataframe\">\n",
       "  <thead>\n",
       "    <tr style=\"text-align: right;\">\n",
       "      <th></th>\n",
       "      <th>road</th>\n",
       "      <th>km</th>\n",
       "      <th>type</th>\n",
       "      <th>name</th>\n",
       "      <th>length</th>\n",
       "      <th>condition</th>\n",
       "      <th>lat</th>\n",
       "      <th>lon</th>\n",
       "    </tr>\n",
       "  </thead>\n",
       "  <tbody>\n",
       "    <tr>\n",
       "      <th>0</th>\n",
       "      <td>N1</td>\n",
       "      <td>1.800</td>\n",
       "      <td>Box Culvert</td>\n",
       "      <td>.</td>\n",
       "      <td>11.30</td>\n",
       "      <td>A</td>\n",
       "      <td>23.698739</td>\n",
       "      <td>90.458861</td>\n",
       "    </tr>\n",
       "    <tr>\n",
       "      <th>1</th>\n",
       "      <td>N1</td>\n",
       "      <td>4.925</td>\n",
       "      <td>Box Culvert</td>\n",
       "      <td>.</td>\n",
       "      <td>6.60</td>\n",
       "      <td>A</td>\n",
       "      <td>23.694664</td>\n",
       "      <td>90.487775</td>\n",
       "    </tr>\n",
       "    <tr>\n",
       "      <th>2</th>\n",
       "      <td>N1</td>\n",
       "      <td>8.976</td>\n",
       "      <td>PC Girder Bridge</td>\n",
       "      <td>Kanch pur Bridge.</td>\n",
       "      <td>394.23</td>\n",
       "      <td>A</td>\n",
       "      <td>23.705060</td>\n",
       "      <td>90.523214</td>\n",
       "    </tr>\n",
       "    <tr>\n",
       "      <th>3</th>\n",
       "      <td>N1</td>\n",
       "      <td>10.880</td>\n",
       "      <td>Box Culvert</td>\n",
       "      <td>NOYAPARA CULVERT</td>\n",
       "      <td>6.30</td>\n",
       "      <td>A</td>\n",
       "      <td>23.694391</td>\n",
       "      <td>90.537574</td>\n",
       "    </tr>\n",
       "    <tr>\n",
       "      <th>4</th>\n",
       "      <td>N1</td>\n",
       "      <td>10.897</td>\n",
       "      <td>Box Culvert</td>\n",
       "      <td>ADUPUR CULVERT</td>\n",
       "      <td>6.30</td>\n",
       "      <td>A</td>\n",
       "      <td>23.694302</td>\n",
       "      <td>90.537707</td>\n",
       "    </tr>\n",
       "  </tbody>\n",
       "</table>\n",
       "</div>"
      ],
      "text/plain": [
       "  road      km              type               name  length condition  \\\n",
       "0   N1   1.800       Box Culvert                  .   11.30         A   \n",
       "1   N1   4.925       Box Culvert                  .    6.60         A   \n",
       "2   N1   8.976  PC Girder Bridge  Kanch pur Bridge.  394.23         A   \n",
       "3   N1  10.880       Box Culvert   NOYAPARA CULVERT    6.30         A   \n",
       "4   N1  10.897       Box Culvert     ADUPUR CULVERT    6.30         A   \n",
       "\n",
       "         lat        lon  \n",
       "0  23.698739  90.458861  \n",
       "1  23.694664  90.487775  \n",
       "2  23.705060  90.523214  \n",
       "3  23.694391  90.537574  \n",
       "4  23.694302  90.537707  "
      ]
     },
     "execution_count": 244,
     "metadata": {},
     "output_type": "execute_result"
    }
   ],
   "source": [
    "df.head()"
   ]
  },
  {
   "cell_type": "code",
   "execution_count": 245,
   "id": "5ab497de-9b24-4d27-99e7-e18e789e4f8c",
   "metadata": {
    "tags": []
   },
   "outputs": [
    {
     "name": "stdout",
     "output_type": "stream",
     "text": [
      "<class 'pandas.core.frame.DataFrame'>\n",
      "RangeIndex: 20415 entries, 0 to 20414\n",
      "Data columns (total 8 columns):\n",
      " #   Column     Non-Null Count  Dtype  \n",
      "---  ------     --------------  -----  \n",
      " 0   road       20415 non-null  object \n",
      " 1   km         20415 non-null  float64\n",
      " 2   type       20415 non-null  object \n",
      " 3   name       20100 non-null  object \n",
      " 4   length     20406 non-null  float64\n",
      " 5   condition  20415 non-null  object \n",
      " 6   lat        20415 non-null  float64\n",
      " 7   lon        20415 non-null  float64\n",
      "dtypes: float64(4), object(4)\n",
      "memory usage: 1.2+ MB\n"
     ]
    }
   ],
   "source": [
    "df.info()"
   ]
  },
  {
   "cell_type": "code",
   "execution_count": 246,
   "id": "811493c2-d593-4270-834a-2fa7b58c9c79",
   "metadata": {
    "tags": []
   },
   "outputs": [
    {
     "data": {
      "text/plain": [
       "road           0\n",
       "km             0\n",
       "type           0\n",
       "name         315\n",
       "length         9\n",
       "condition      0\n",
       "lat            0\n",
       "lon            0\n",
       "dtype: int64"
      ]
     },
     "execution_count": 246,
     "metadata": {},
     "output_type": "execute_result"
    }
   ],
   "source": [
    "df.isnull().sum(axis = 0)"
   ]
  },
  {
   "cell_type": "code",
   "execution_count": 247,
   "id": "4751e310-2dd5-4df2-8386-8a48358f6a40",
   "metadata": {
    "tags": []
   },
   "outputs": [],
   "source": [
    "df['name'].fillna('.', inplace=True)"
   ]
  },
  {
   "cell_type": "code",
   "execution_count": 248,
   "id": "8eee2bcd-9fae-41d1-a9b9-424500be6618",
   "metadata": {
    "tags": []
   },
   "outputs": [
    {
     "data": {
      "text/plain": [
       "road         0\n",
       "km           0\n",
       "type         0\n",
       "name         0\n",
       "length       9\n",
       "condition    0\n",
       "lat          0\n",
       "lon          0\n",
       "dtype: int64"
      ]
     },
     "execution_count": 248,
     "metadata": {},
     "output_type": "execute_result"
    }
   ],
   "source": [
    "df.isnull().sum(axis = 0)"
   ]
  },
  {
   "cell_type": "code",
   "execution_count": 249,
   "id": "69ed07bb-445b-4479-9e7a-d9efd5f01030",
   "metadata": {
    "tags": []
   },
   "outputs": [],
   "source": [
    "missing = df[df.length.isnull()]"
   ]
  },
  {
   "cell_type": "code",
   "execution_count": 250,
   "id": "84510726-b158-427d-983e-74ac18c49eda",
   "metadata": {
    "tags": []
   },
   "outputs": [],
   "source": [
    "for index in missing.index:  \n",
    "    if df.loc[index, 'km'] == df.loc[index-1, 'km']: \n",
    "        new_length = df.loc[index-1, 'length']\n",
    "        df.loc[index, 'length'] = new_length\n",
    "\n",
    "    elif df.loc[index, 'km'] == df.loc[index+1, 'km']: \n",
    "        new_length = df.loc[index+1, 'length']\n",
    "        df.loc[index, 'length'] = new_length"
   ]
  },
  {
   "cell_type": "code",
   "execution_count": 251,
   "id": "4e027b9f-9933-40be-9f99-444925e88238",
   "metadata": {
    "tags": []
   },
   "outputs": [],
   "source": [
    "updated_missing = df[df.length.isnull()]"
   ]
  },
  {
   "cell_type": "code",
   "execution_count": 252,
   "id": "0e7129e8-e7ea-4d20-8aeb-787b2c0276df",
   "metadata": {
    "tags": []
   },
   "outputs": [],
   "source": [
    "for index in missing.index:\n",
    "    road_name = df.loc[index, 'road']\n",
    "    road_subset = df[df['road'] == road_name]\n",
    "    average_length = road_subset.loc[:, 'length'].mean()\n",
    "    df.loc[index, 'length'] = average_length"
   ]
  },
  {
   "cell_type": "code",
   "execution_count": 253,
   "id": "fe961b6c-5246-47cd-a8d4-5cd00bfb38a9",
   "metadata": {
    "tags": []
   },
   "outputs": [],
   "source": [
    "check_leftovers = df[df.length.isnull()]"
   ]
  },
  {
   "cell_type": "code",
   "execution_count": 254,
   "id": "9f935244-d5b2-4041-aa7b-6cf2b1e96a1e",
   "metadata": {
    "tags": []
   },
   "outputs": [
    {
     "data": {
      "text/html": [
       "<div>\n",
       "<style scoped>\n",
       "    .dataframe tbody tr th:only-of-type {\n",
       "        vertical-align: middle;\n",
       "    }\n",
       "\n",
       "    .dataframe tbody tr th {\n",
       "        vertical-align: top;\n",
       "    }\n",
       "\n",
       "    .dataframe thead th {\n",
       "        text-align: right;\n",
       "    }\n",
       "</style>\n",
       "<table border=\"1\" class=\"dataframe\">\n",
       "  <thead>\n",
       "    <tr style=\"text-align: right;\">\n",
       "      <th></th>\n",
       "      <th>road</th>\n",
       "      <th>km</th>\n",
       "      <th>type</th>\n",
       "      <th>name</th>\n",
       "      <th>length</th>\n",
       "      <th>condition</th>\n",
       "      <th>lat</th>\n",
       "      <th>lon</th>\n",
       "    </tr>\n",
       "  </thead>\n",
       "  <tbody>\n",
       "  </tbody>\n",
       "</table>\n",
       "</div>"
      ],
      "text/plain": [
       "Empty DataFrame\n",
       "Columns: [road, km, type, name, length, condition, lat, lon]\n",
       "Index: []"
      ]
     },
     "execution_count": 254,
     "metadata": {},
     "output_type": "execute_result"
    }
   ],
   "source": [
    "check_leftovers"
   ]
  },
  {
   "cell_type": "markdown",
   "id": "3d2fb09a-db2a-4420-b4b2-205370f9fc28",
   "metadata": {},
   "source": [
    "## Duplicate Management"
   ]
  },
  {
   "cell_type": "code",
   "execution_count": 255,
   "id": "7054e7d6-7b42-4a5e-a676-129b63a4334b",
   "metadata": {
    "tags": []
   },
   "outputs": [],
   "source": [
    "df['name'] = df['name'].astype(str)"
   ]
  },
  {
   "cell_type": "code",
   "execution_count": 256,
   "id": "6a613241-b071-4272-837d-d9e07ee20c82",
   "metadata": {
    "tags": []
   },
   "outputs": [],
   "source": [
    "# first we need to strip the ')' \n",
    "df['name'] = df['name'].apply(lambda x: x.replace(')', ''))\n",
    "df['name'] = df['name'].apply(lambda x: x.replace('RIGHT', 'R'))\n",
    "df['name'] = df['name'].apply(lambda x: x.replace('LEFT', 'L'))\n",
    "df['name'] = df['name'].apply(lambda x: x.replace('Right', 'R'))\n",
    "df['name'] = df['name'].apply(lambda x: x.replace('Left', 'L'))"
   ]
  },
  {
   "cell_type": "code",
   "execution_count": 257,
   "id": "ac00de7c-c49f-4c97-ba90-e0fc16c0fca3",
   "metadata": {
    "tags": []
   },
   "outputs": [],
   "source": [
    "# first we need to strip the whitespaces \n",
    "df['name'] = df['name'].apply(lambda x: x.strip())"
   ]
  },
  {
   "cell_type": "code",
   "execution_count": 258,
   "id": "2655e325-194f-460c-96c1-d979078ab9b8",
   "metadata": {
    "tags": []
   },
   "outputs": [
    {
     "data": {
      "text/html": [
       "<div>\n",
       "<style scoped>\n",
       "    .dataframe tbody tr th:only-of-type {\n",
       "        vertical-align: middle;\n",
       "    }\n",
       "\n",
       "    .dataframe tbody tr th {\n",
       "        vertical-align: top;\n",
       "    }\n",
       "\n",
       "    .dataframe thead th {\n",
       "        text-align: right;\n",
       "    }\n",
       "</style>\n",
       "<table border=\"1\" class=\"dataframe\">\n",
       "  <thead>\n",
       "    <tr style=\"text-align: right;\">\n",
       "      <th></th>\n",
       "      <th>road</th>\n",
       "      <th>km</th>\n",
       "      <th>type</th>\n",
       "      <th>name</th>\n",
       "      <th>length</th>\n",
       "      <th>condition</th>\n",
       "      <th>lat</th>\n",
       "      <th>lon</th>\n",
       "    </tr>\n",
       "  </thead>\n",
       "  <tbody>\n",
       "    <tr>\n",
       "      <th>12706</th>\n",
       "      <td>N1</td>\n",
       "      <td>8.976</td>\n",
       "      <td>PC Girder Bridge</td>\n",
       "      <td>KANCHPUR PC GIRDER BRIDGE</td>\n",
       "      <td>397.0</td>\n",
       "      <td>C</td>\n",
       "      <td>23.705060</td>\n",
       "      <td>90.523214</td>\n",
       "    </tr>\n",
       "    <tr>\n",
       "      <th>9</th>\n",
       "      <td>N1</td>\n",
       "      <td>12.660</td>\n",
       "      <td>PC Girder Bridge</td>\n",
       "      <td>MADAN PUR (R</td>\n",
       "      <td>26.3</td>\n",
       "      <td>A</td>\n",
       "      <td>23.685583</td>\n",
       "      <td>90.551208</td>\n",
       "    </tr>\n",
       "    <tr>\n",
       "      <th>10</th>\n",
       "      <td>N1</td>\n",
       "      <td>12.660</td>\n",
       "      <td>PC Girder Bridge</td>\n",
       "      <td>MADANPUR BRIDGE(L</td>\n",
       "      <td>26.3</td>\n",
       "      <td>A</td>\n",
       "      <td>23.685583</td>\n",
       "      <td>90.551208</td>\n",
       "    </tr>\n",
       "    <tr>\n",
       "      <th>14588</th>\n",
       "      <td>N1</td>\n",
       "      <td>17.134</td>\n",
       "      <td>PC Girder Bridge</td>\n",
       "      <td>LANGOLBANDO PC GIDER BRIDGE</td>\n",
       "      <td>159.5</td>\n",
       "      <td>B</td>\n",
       "      <td>23.654426</td>\n",
       "      <td>90.576730</td>\n",
       "    </tr>\n",
       "    <tr>\n",
       "      <th>14</th>\n",
       "      <td>N1</td>\n",
       "      <td>17.222</td>\n",
       "      <td>PC Girder Bridge</td>\n",
       "      <td>Darikandi Bridge (L</td>\n",
       "      <td>20.5</td>\n",
       "      <td>A</td>\n",
       "      <td>23.653972</td>\n",
       "      <td>90.577410</td>\n",
       "    </tr>\n",
       "    <tr>\n",
       "      <th>...</th>\n",
       "      <td>...</td>\n",
       "      <td>...</td>\n",
       "      <td>...</td>\n",
       "      <td>...</td>\n",
       "      <td>...</td>\n",
       "      <td>...</td>\n",
       "      <td>...</td>\n",
       "      <td>...</td>\n",
       "    </tr>\n",
       "    <tr>\n",
       "      <th>14737</th>\n",
       "      <td>N1</td>\n",
       "      <td>457.365</td>\n",
       "      <td>RCC Girder Bridge</td>\n",
       "      <td>NAITOM PARA RCC GIDER BRIDGE</td>\n",
       "      <td>15.1</td>\n",
       "      <td>B</td>\n",
       "      <td>20.897099</td>\n",
       "      <td>92.285061</td>\n",
       "    </tr>\n",
       "    <tr>\n",
       "      <th>463</th>\n",
       "      <td>N1</td>\n",
       "      <td>457.751</td>\n",
       "      <td>RCC Girder Bridge</td>\n",
       "      <td>NAITANG PARA RCC GIDER BRIDGE</td>\n",
       "      <td>9.0</td>\n",
       "      <td>A</td>\n",
       "      <td>20.895090</td>\n",
       "      <td>92.287952</td>\n",
       "    </tr>\n",
       "    <tr>\n",
       "      <th>14738</th>\n",
       "      <td>N1</td>\n",
       "      <td>458.213</td>\n",
       "      <td>RCC Girder Bridge</td>\n",
       "      <td>NAITOM PARA RCC GIDER BRIDGE</td>\n",
       "      <td>9.0</td>\n",
       "      <td>B</td>\n",
       "      <td>20.892271</td>\n",
       "      <td>92.290984</td>\n",
       "    </tr>\n",
       "    <tr>\n",
       "      <th>15732</th>\n",
       "      <td>N1</td>\n",
       "      <td>458.799</td>\n",
       "      <td>RCC Girder Bridge</td>\n",
       "      <td>Eskahal Bridge</td>\n",
       "      <td>37.3</td>\n",
       "      <td>C</td>\n",
       "      <td>20.890158</td>\n",
       "      <td>92.295718</td>\n",
       "    </tr>\n",
       "    <tr>\n",
       "      <th>15735</th>\n",
       "      <td>N1</td>\n",
       "      <td>460.113</td>\n",
       "      <td>RCC Girder Bridge</td>\n",
       "      <td>Yaknat Bridge</td>\n",
       "      <td>35.9</td>\n",
       "      <td>C</td>\n",
       "      <td>20.880985</td>\n",
       "      <td>92.297777</td>\n",
       "    </tr>\n",
       "  </tbody>\n",
       "</table>\n",
       "<p>159 rows × 8 columns</p>\n",
       "</div>"
      ],
      "text/plain": [
       "      road       km               type                           name  length  \\\n",
       "12706   N1    8.976   PC Girder Bridge      KANCHPUR PC GIRDER BRIDGE   397.0   \n",
       "9       N1   12.660   PC Girder Bridge                   MADAN PUR (R    26.3   \n",
       "10      N1   12.660   PC Girder Bridge              MADANPUR BRIDGE(L    26.3   \n",
       "14588   N1   17.134   PC Girder Bridge    LANGOLBANDO PC GIDER BRIDGE   159.5   \n",
       "14      N1   17.222   PC Girder Bridge            Darikandi Bridge (L    20.5   \n",
       "...    ...      ...                ...                            ...     ...   \n",
       "14737   N1  457.365  RCC Girder Bridge   NAITOM PARA RCC GIDER BRIDGE    15.1   \n",
       "463     N1  457.751  RCC Girder Bridge  NAITANG PARA RCC GIDER BRIDGE     9.0   \n",
       "14738   N1  458.213  RCC Girder Bridge   NAITOM PARA RCC GIDER BRIDGE     9.0   \n",
       "15732   N1  458.799  RCC Girder Bridge                 Eskahal Bridge    37.3   \n",
       "15735   N1  460.113  RCC Girder Bridge                  Yaknat Bridge    35.9   \n",
       "\n",
       "      condition        lat        lon  \n",
       "12706         C  23.705060  90.523214  \n",
       "9             A  23.685583  90.551208  \n",
       "10            A  23.685583  90.551208  \n",
       "14588         B  23.654426  90.576730  \n",
       "14            A  23.653972  90.577410  \n",
       "...         ...        ...        ...  \n",
       "14737         B  20.897099  92.285061  \n",
       "463           A  20.895090  92.287952  \n",
       "14738         B  20.892271  92.290984  \n",
       "15732         C  20.890158  92.295718  \n",
       "15735         C  20.880985  92.297777  \n",
       "\n",
       "[159 rows x 8 columns]"
      ]
     },
     "execution_count": 258,
     "metadata": {},
     "output_type": "execute_result"
    }
   ],
   "source": [
    "duplicateRows = df[df['road'] == 'N1']\n",
    "duplicateRows = duplicateRows[duplicateRows.duplicated(subset=['lat', 'lon'])]\n",
    "duplicateRows.sort_values(by=['km'])"
   ]
  },
  {
   "cell_type": "code",
   "execution_count": 259,
   "id": "4bf4dbd5-0051-4bd2-b49a-2a9a43b1d2a1",
   "metadata": {
    "tags": []
   },
   "outputs": [
    {
     "data": {
      "text/plain": [
       "[]"
      ]
     },
     "metadata": {},
     "output_type": "display_data"
    },
    {
     "data": {
      "text/plain": [
       "[]"
      ]
     },
     "metadata": {},
     "output_type": "display_data"
    },
    {
     "data": {
      "text/plain": [
       "[]"
      ]
     },
     "metadata": {},
     "output_type": "display_data"
    },
    {
     "data": {
      "text/plain": [
       "[(19, 1)]"
      ]
     },
     "metadata": {},
     "output_type": "display_data"
    },
    {
     "data": {
      "text/plain": [
       "[(19, 1)]"
      ]
     },
     "metadata": {},
     "output_type": "display_data"
    },
    {
     "data": {
      "text/plain": [
       "[]"
      ]
     },
     "metadata": {},
     "output_type": "display_data"
    },
    {
     "data": {
      "text/plain": [
       "[]"
      ]
     },
     "metadata": {},
     "output_type": "display_data"
    },
    {
     "data": {
      "text/plain": [
       "[(30, 1)]"
      ]
     },
     "metadata": {},
     "output_type": "display_data"
    },
    {
     "data": {
      "text/plain": [
       "[(30, 1)]"
      ]
     },
     "metadata": {},
     "output_type": "display_data"
    },
    {
     "data": {
      "text/plain": [
       "[]"
      ]
     },
     "metadata": {},
     "output_type": "display_data"
    },
    {
     "data": {
      "text/plain": [
       "[]"
      ]
     },
     "metadata": {},
     "output_type": "display_data"
    },
    {
     "data": {
      "text/plain": [
       "[]"
      ]
     },
     "metadata": {},
     "output_type": "display_data"
    },
    {
     "data": {
      "text/plain": [
       "[]"
      ]
     },
     "metadata": {},
     "output_type": "display_data"
    },
    {
     "data": {
      "text/plain": [
       "[]"
      ]
     },
     "metadata": {},
     "output_type": "display_data"
    },
    {
     "data": {
      "text/plain": [
       "[]"
      ]
     },
     "metadata": {},
     "output_type": "display_data"
    },
    {
     "data": {
      "text/plain": [
       "[]"
      ]
     },
     "metadata": {},
     "output_type": "display_data"
    },
    {
     "data": {
      "text/plain": [
       "[]"
      ]
     },
     "metadata": {},
     "output_type": "display_data"
    },
    {
     "data": {
      "text/plain": [
       "[]"
      ]
     },
     "metadata": {},
     "output_type": "display_data"
    },
    {
     "data": {
      "text/plain": [
       "[]"
      ]
     },
     "metadata": {},
     "output_type": "display_data"
    },
    {
     "data": {
      "text/plain": [
       "[]"
      ]
     },
     "metadata": {},
     "output_type": "display_data"
    },
    {
     "data": {
      "text/plain": [
       "[]"
      ]
     },
     "metadata": {},
     "output_type": "display_data"
    },
    {
     "data": {
      "text/plain": [
       "[]"
      ]
     },
     "metadata": {},
     "output_type": "display_data"
    },
    {
     "data": {
      "text/plain": [
       "[]"
      ]
     },
     "metadata": {},
     "output_type": "display_data"
    },
    {
     "data": {
      "text/plain": [
       "[]"
      ]
     },
     "metadata": {},
     "output_type": "display_data"
    },
    {
     "data": {
      "text/plain": [
       "[(67, 1), (68, 1)]"
      ]
     },
     "metadata": {},
     "output_type": "display_data"
    },
    {
     "data": {
      "text/plain": [
       "[]"
      ]
     },
     "metadata": {},
     "output_type": "display_data"
    },
    {
     "data": {
      "text/plain": [
       "[(191, 1), (192, 1)]"
      ]
     },
     "metadata": {},
     "output_type": "display_data"
    },
    {
     "data": {
      "text/plain": [
       "[(193, 1), (194, 1)]"
      ]
     },
     "metadata": {},
     "output_type": "display_data"
    },
    {
     "data": {
      "text/plain": [
       "[(204, 1), (205, 1)]"
      ]
     },
     "metadata": {},
     "output_type": "display_data"
    },
    {
     "data": {
      "text/plain": [
       "[(211, 1), (212, 1)]"
      ]
     },
     "metadata": {},
     "output_type": "display_data"
    },
    {
     "data": {
      "text/plain": [
       "[(214, 1), (215, 1)]"
      ]
     },
     "metadata": {},
     "output_type": "display_data"
    },
    {
     "data": {
      "text/plain": [
       "[(223, 1), (224, 1)]"
      ]
     },
     "metadata": {},
     "output_type": "display_data"
    },
    {
     "data": {
      "text/plain": [
       "[(232, 1), (233, 1)]"
      ]
     },
     "metadata": {},
     "output_type": "display_data"
    },
    {
     "data": {
      "text/plain": [
       "[(286, 1), (287, 1)]"
      ]
     },
     "metadata": {},
     "output_type": "display_data"
    },
    {
     "data": {
      "text/plain": [
       "[(303, 1)]"
      ]
     },
     "metadata": {},
     "output_type": "display_data"
    },
    {
     "data": {
      "text/plain": [
       "[(303, 1)]"
      ]
     },
     "metadata": {},
     "output_type": "display_data"
    },
    {
     "data": {
      "text/plain": [
       "[(323, 1), (324, 1)]"
      ]
     },
     "metadata": {},
     "output_type": "display_data"
    },
    {
     "data": {
      "text/plain": [
       "[]"
      ]
     },
     "metadata": {},
     "output_type": "display_data"
    },
    {
     "data": {
      "text/plain": [
       "[(429, 1)]"
      ]
     },
     "metadata": {},
     "output_type": "display_data"
    },
    {
     "data": {
      "text/plain": [
       "[(432, 1), (433, 1)]"
      ]
     },
     "metadata": {},
     "output_type": "display_data"
    },
    {
     "data": {
      "text/plain": [
       "[(442, 1), (443, 1)]"
      ]
     },
     "metadata": {},
     "output_type": "display_data"
    },
    {
     "data": {
      "text/plain": [
       "[(449, 1), (450, 1)]"
      ]
     },
     "metadata": {},
     "output_type": "display_data"
    },
    {
     "data": {
      "text/plain": [
       "[(451, 1), (452, 1)]"
      ]
     },
     "metadata": {},
     "output_type": "display_data"
    },
    {
     "data": {
      "text/plain": [
       "[(462, 1), (463, 1)]"
      ]
     },
     "metadata": {},
     "output_type": "display_data"
    },
    {
     "data": {
      "text/plain": [
       "[(2, 1), (12706, 3)]"
      ]
     },
     "metadata": {},
     "output_type": "display_data"
    },
    {
     "data": {
      "text/plain": [
       "[(24, 1), (12709, 3)]"
      ]
     },
     "metadata": {},
     "output_type": "display_data"
    },
    {
     "data": {
      "text/plain": [
       "[(57, 1), (12711, 3)]"
      ]
     },
     "metadata": {},
     "output_type": "display_data"
    },
    {
     "data": {
      "text/plain": [
       "[(12712, 3), (12713, 3)]"
      ]
     },
     "metadata": {},
     "output_type": "display_data"
    },
    {
     "data": {
      "text/plain": [
       "[(12715, 3)]"
      ]
     },
     "metadata": {},
     "output_type": "display_data"
    },
    {
     "data": {
      "text/plain": [
       "[(58, 1), (12718, 3)]"
      ]
     },
     "metadata": {},
     "output_type": "display_data"
    },
    {
     "data": {
      "text/plain": [
       "[(12721, 3), (12722, 3)]"
      ]
     },
     "metadata": {},
     "output_type": "display_data"
    },
    {
     "data": {
      "text/plain": [
       "[(65, 1), (12724, 3)]"
      ]
     },
     "metadata": {},
     "output_type": "display_data"
    },
    {
     "data": {
      "text/plain": [
       "[(66, 1), (12727, 3)]"
      ]
     },
     "metadata": {},
     "output_type": "display_data"
    },
    {
     "data": {
      "text/plain": [
       "[(12728, 3), (12729, 3)]"
      ]
     },
     "metadata": {},
     "output_type": "display_data"
    },
    {
     "data": {
      "text/plain": [
       "[(148, 1), (12735, 3)]"
      ]
     },
     "metadata": {},
     "output_type": "display_data"
    },
    {
     "data": {
      "text/plain": [
       "[(12707, 3), (14588, 2)]"
      ]
     },
     "metadata": {},
     "output_type": "display_data"
    },
    {
     "data": {
      "text/plain": [
       "[]"
      ]
     },
     "metadata": {},
     "output_type": "display_data"
    },
    {
     "data": {
      "text/plain": [
       "[]"
      ]
     },
     "metadata": {},
     "output_type": "display_data"
    },
    {
     "data": {
      "text/plain": [
       "[]"
      ]
     },
     "metadata": {},
     "output_type": "display_data"
    },
    {
     "data": {
      "text/plain": [
       "[]"
      ]
     },
     "metadata": {},
     "output_type": "display_data"
    },
    {
     "data": {
      "text/plain": [
       "[]"
      ]
     },
     "metadata": {},
     "output_type": "display_data"
    },
    {
     "data": {
      "text/plain": [
       "[]"
      ]
     },
     "metadata": {},
     "output_type": "display_data"
    },
    {
     "data": {
      "text/plain": [
       "[]"
      ]
     },
     "metadata": {},
     "output_type": "display_data"
    },
    {
     "data": {
      "text/plain": [
       "[]"
      ]
     },
     "metadata": {},
     "output_type": "display_data"
    },
    {
     "data": {
      "text/plain": [
       "[]"
      ]
     },
     "metadata": {},
     "output_type": "display_data"
    },
    {
     "data": {
      "text/plain": [
       "[]"
      ]
     },
     "metadata": {},
     "output_type": "display_data"
    },
    {
     "data": {
      "text/plain": [
       "[]"
      ]
     },
     "metadata": {},
     "output_type": "display_data"
    },
    {
     "data": {
      "text/plain": [
       "[]"
      ]
     },
     "metadata": {},
     "output_type": "display_data"
    },
    {
     "data": {
      "text/plain": [
       "[]"
      ]
     },
     "metadata": {},
     "output_type": "display_data"
    },
    {
     "data": {
      "text/plain": [
       "[]"
      ]
     },
     "metadata": {},
     "output_type": "display_data"
    },
    {
     "data": {
      "text/plain": [
       "[(12720, 3)]"
      ]
     },
     "metadata": {},
     "output_type": "display_data"
    },
    {
     "data": {
      "text/plain": [
       "[(12725, 3)]"
      ]
     },
     "metadata": {},
     "output_type": "display_data"
    },
    {
     "data": {
      "text/plain": [
       "[(12726, 3), (14616, 2)]"
      ]
     },
     "metadata": {},
     "output_type": "display_data"
    },
    {
     "data": {
      "text/plain": [
       "[(88, 1)]"
      ]
     },
     "metadata": {},
     "output_type": "display_data"
    },
    {
     "data": {
      "text/plain": [
       "[(14645, 2)]"
      ]
     },
     "metadata": {},
     "output_type": "display_data"
    },
    {
     "data": {
      "text/plain": [
       "[(14646, 2)]"
      ]
     },
     "metadata": {},
     "output_type": "display_data"
    },
    {
     "data": {
      "text/plain": [
       "[]"
      ]
     },
     "metadata": {},
     "output_type": "display_data"
    },
    {
     "data": {
      "text/plain": [
       "[(162, 1), (14661, 2)]"
      ]
     },
     "metadata": {},
     "output_type": "display_data"
    },
    {
     "data": {
      "text/plain": [
       "[]"
      ]
     },
     "metadata": {},
     "output_type": "display_data"
    },
    {
     "data": {
      "text/plain": [
       "[(14672, 2), (14673, 2)]"
      ]
     },
     "metadata": {},
     "output_type": "display_data"
    },
    {
     "data": {
      "text/plain": [
       "[(202, 1), (14678, 2)]"
      ]
     },
     "metadata": {},
     "output_type": "display_data"
    },
    {
     "data": {
      "text/plain": [
       "[(226, 1), (14679, 2)]"
      ]
     },
     "metadata": {},
     "output_type": "display_data"
    },
    {
     "data": {
      "text/plain": [
       "[(227, 1), (14680, 2)]"
      ]
     },
     "metadata": {},
     "output_type": "display_data"
    },
    {
     "data": {
      "text/plain": [
       "[(236, 1), (14681, 2)]"
      ]
     },
     "metadata": {},
     "output_type": "display_data"
    },
    {
     "data": {
      "text/plain": [
       "[(275, 1), (14685, 2)]"
      ]
     },
     "metadata": {},
     "output_type": "display_data"
    },
    {
     "data": {
      "text/plain": [
       "[(307, 1), (14687, 2)]"
      ]
     },
     "metadata": {},
     "output_type": "display_data"
    },
    {
     "data": {
      "text/plain": [
       "[(372, 1), (14704, 2)]"
      ]
     },
     "metadata": {},
     "output_type": "display_data"
    },
    {
     "data": {
      "text/plain": [
       "[(375, 1), (14706, 2)]"
      ]
     },
     "metadata": {},
     "output_type": "display_data"
    },
    {
     "data": {
      "text/plain": [
       "[(408, 1), (14716, 2)]"
      ]
     },
     "metadata": {},
     "output_type": "display_data"
    },
    {
     "data": {
      "text/plain": [
       "[(14725, 2), (14726, 2)]"
      ]
     },
     "metadata": {},
     "output_type": "display_data"
    },
    {
     "data": {
      "text/plain": [
       "[(14728, 2), (14729, 2)]"
      ]
     },
     "metadata": {},
     "output_type": "display_data"
    },
    {
     "data": {
      "text/plain": [
       "[(438, 1), (14730, 2)]"
      ]
     },
     "metadata": {},
     "output_type": "display_data"
    },
    {
     "data": {
      "text/plain": [
       "[(439, 1), (14731, 2)]"
      ]
     },
     "metadata": {},
     "output_type": "display_data"
    },
    {
     "data": {
      "text/plain": [
       "[(446, 1), (14734, 2)]"
      ]
     },
     "metadata": {},
     "output_type": "display_data"
    },
    {
     "data": {
      "text/plain": [
       "[(459, 1), (14735, 2)]"
      ]
     },
     "metadata": {},
     "output_type": "display_data"
    },
    {
     "data": {
      "text/plain": [
       "[(460, 1), (14736, 2)]"
      ]
     },
     "metadata": {},
     "output_type": "display_data"
    },
    {
     "data": {
      "text/plain": [
       "[(461, 1), (14737, 2)]"
      ]
     },
     "metadata": {},
     "output_type": "display_data"
    },
    {
     "data": {
      "text/plain": [
       "[(464, 1), (14738, 2)]"
      ]
     },
     "metadata": {},
     "output_type": "display_data"
    },
    {
     "data": {
      "text/plain": [
       "[(14662, 2), (15619, 3)]"
      ]
     },
     "metadata": {},
     "output_type": "display_data"
    },
    {
     "data": {
      "text/plain": [
       "[(14663, 2), (15620, 3)]"
      ]
     },
     "metadata": {},
     "output_type": "display_data"
    },
    {
     "data": {
      "text/plain": [
       "[(163, 1), (15621, 3)]"
      ]
     },
     "metadata": {},
     "output_type": "display_data"
    },
    {
     "data": {
      "text/plain": [
       "[(164, 1), (15622, 3)]"
      ]
     },
     "metadata": {},
     "output_type": "display_data"
    },
    {
     "data": {
      "text/plain": [
       "[(165, 1), (15623, 3)]"
      ]
     },
     "metadata": {},
     "output_type": "display_data"
    },
    {
     "data": {
      "text/plain": [
       "[(172, 1), (15625, 3)]"
      ]
     },
     "metadata": {},
     "output_type": "display_data"
    },
    {
     "data": {
      "text/plain": [
       "[(14668, 2), (15626, 3)]"
      ]
     },
     "metadata": {},
     "output_type": "display_data"
    },
    {
     "data": {
      "text/plain": [
       "[(14669, 2), (15627, 3)]"
      ]
     },
     "metadata": {},
     "output_type": "display_data"
    },
    {
     "data": {
      "text/plain": [
       "[(14671, 2), (15628, 3)]"
      ]
     },
     "metadata": {},
     "output_type": "display_data"
    },
    {
     "data": {
      "text/plain": [
       "[(14677, 2)]"
      ]
     },
     "metadata": {},
     "output_type": "display_data"
    },
    {
     "data": {
      "text/plain": [
       "[(250, 1), (15632, 3)]"
      ]
     },
     "metadata": {},
     "output_type": "display_data"
    },
    {
     "data": {
      "text/plain": [
       "[(257, 1), (15633, 3)]"
      ]
     },
     "metadata": {},
     "output_type": "display_data"
    },
    {
     "data": {
      "text/plain": [
       "[(266, 1), (15635, 3)]"
      ]
     },
     "metadata": {},
     "output_type": "display_data"
    },
    {
     "data": {
      "text/plain": [
       "[(270, 1), (15636, 3)]"
      ]
     },
     "metadata": {},
     "output_type": "display_data"
    },
    {
     "data": {
      "text/plain": [
       "[(273, 1), (15637, 3)]"
      ]
     },
     "metadata": {},
     "output_type": "display_data"
    },
    {
     "data": {
      "text/plain": [
       "[(15639, 3)]"
      ]
     },
     "metadata": {},
     "output_type": "display_data"
    },
    {
     "data": {
      "text/plain": [
       "[(288, 1), (15641, 3)]"
      ]
     },
     "metadata": {},
     "output_type": "display_data"
    },
    {
     "data": {
      "text/plain": [
       "[(327, 1), (15642, 3)]"
      ]
     },
     "metadata": {},
     "output_type": "display_data"
    },
    {
     "data": {
      "text/plain": [
       "[(353, 1), (15659, 3)]"
      ]
     },
     "metadata": {},
     "output_type": "display_data"
    },
    {
     "data": {
      "text/plain": [
       "[(370, 1), (15676, 3)]"
      ]
     },
     "metadata": {},
     "output_type": "display_data"
    },
    {
     "data": {
      "text/plain": [
       "[(374, 1), (15679, 3)]"
      ]
     },
     "metadata": {},
     "output_type": "display_data"
    },
    {
     "data": {
      "text/plain": [
       "[(14707, 2), (15680, 3)]"
      ]
     },
     "metadata": {},
     "output_type": "display_data"
    },
    {
     "data": {
      "text/plain": [
       "[(15685, 3), (15686, 3)]"
      ]
     },
     "metadata": {},
     "output_type": "display_data"
    },
    {
     "data": {
      "text/plain": [
       "[(379, 1), (15687, 3)]"
      ]
     },
     "metadata": {},
     "output_type": "display_data"
    },
    {
     "data": {
      "text/plain": [
       "[(15688, 3), (15689, 3)]"
      ]
     },
     "metadata": {},
     "output_type": "display_data"
    },
    {
     "data": {
      "text/plain": [
       "[(14710, 2), (15692, 3)]"
      ]
     },
     "metadata": {},
     "output_type": "display_data"
    },
    {
     "data": {
      "text/plain": [
       "[(15696, 3)]"
      ]
     },
     "metadata": {},
     "output_type": "display_data"
    },
    {
     "data": {
      "text/plain": [
       "[(14714, 2)]"
      ]
     },
     "metadata": {},
     "output_type": "display_data"
    },
    {
     "data": {
      "text/plain": [
       "[(398, 1), (15699, 3)]"
      ]
     },
     "metadata": {},
     "output_type": "display_data"
    },
    {
     "data": {
      "text/plain": [
       "[(15701, 3), (15702, 3)]"
      ]
     },
     "metadata": {},
     "output_type": "display_data"
    },
    {
     "data": {
      "text/plain": [
       "[(14718, 2), (15703, 3)]"
      ]
     },
     "metadata": {},
     "output_type": "display_data"
    },
    {
     "data": {
      "text/plain": [
       "[(14720, 2), (15705, 3)]"
      ]
     },
     "metadata": {},
     "output_type": "display_data"
    },
    {
     "data": {
      "text/plain": [
       "[(14721, 2), (15711, 3)]"
      ]
     },
     "metadata": {},
     "output_type": "display_data"
    },
    {
     "data": {
      "text/plain": [
       "[(14722, 2), (15712, 3)]"
      ]
     },
     "metadata": {},
     "output_type": "display_data"
    },
    {
     "data": {
      "text/plain": [
       "[(15713, 3), (15714, 3)]"
      ]
     },
     "metadata": {},
     "output_type": "display_data"
    },
    {
     "data": {
      "text/plain": [
       "[(15715, 3), (15716, 3)]"
      ]
     },
     "metadata": {},
     "output_type": "display_data"
    },
    {
     "data": {
      "text/plain": [
       "[(422, 1), (15718, 3)]"
      ]
     },
     "metadata": {},
     "output_type": "display_data"
    },
    {
     "data": {
      "text/plain": [
       "[(14724, 2), (15719, 3)]"
      ]
     },
     "metadata": {},
     "output_type": "display_data"
    },
    {
     "data": {
      "text/plain": [
       "[(14727, 2), (15720, 3)]"
      ]
     },
     "metadata": {},
     "output_type": "display_data"
    },
    {
     "data": {
      "text/plain": [
       "[(434, 1), (15721, 3)]"
      ]
     },
     "metadata": {},
     "output_type": "display_data"
    },
    {
     "data": {
      "text/plain": [
       "[(15722, 3), (15723, 3)]"
      ]
     },
     "metadata": {},
     "output_type": "display_data"
    },
    {
     "data": {
      "text/plain": [
       "[(15724, 3), (15725, 3)]"
      ]
     },
     "metadata": {},
     "output_type": "display_data"
    },
    {
     "data": {
      "text/plain": [
       "[(14732, 2), (15726, 3)]"
      ]
     },
     "metadata": {},
     "output_type": "display_data"
    },
    {
     "data": {
      "text/plain": [
       "[(444, 1), (15727, 3)]"
      ]
     },
     "metadata": {},
     "output_type": "display_data"
    },
    {
     "data": {
      "text/plain": [
       "[(448, 1), (15728, 3)]"
      ]
     },
     "metadata": {},
     "output_type": "display_data"
    },
    {
     "data": {
      "text/plain": [
       "[(453, 1), (15729, 3)]"
      ]
     },
     "metadata": {},
     "output_type": "display_data"
    },
    {
     "data": {
      "text/plain": [
       "[(457, 1), (15730, 3)]"
      ]
     },
     "metadata": {},
     "output_type": "display_data"
    },
    {
     "data": {
      "text/plain": [
       "[(458, 1), (15731, 3)]"
      ]
     },
     "metadata": {},
     "output_type": "display_data"
    },
    {
     "data": {
      "text/plain": [
       "[(14739, 2), (15732, 3)]"
      ]
     },
     "metadata": {},
     "output_type": "display_data"
    },
    {
     "data": {
      "text/plain": [
       "[(15734, 3), (15735, 3)]"
      ]
     },
     "metadata": {},
     "output_type": "display_data"
    },
    {
     "data": {
      "text/plain": [
       "[(14658, 2), (19366, 4)]"
      ]
     },
     "metadata": {},
     "output_type": "display_data"
    },
    {
     "data": {
      "text/plain": [
       "[(14659, 2), (19367, 4)]"
      ]
     },
     "metadata": {},
     "output_type": "display_data"
    },
    {
     "data": {
      "text/plain": [
       "[(15630, 3), (19368, 4)]"
      ]
     },
     "metadata": {},
     "output_type": "display_data"
    },
    {
     "data": {
      "text/plain": [
       "[(15634, 3), (19369, 4)]"
      ]
     },
     "metadata": {},
     "output_type": "display_data"
    },
    {
     "data": {
      "text/plain": [
       "[(19373, 4), (19374, 4)]"
      ]
     },
     "metadata": {},
     "output_type": "display_data"
    },
    {
     "data": {
      "text/plain": [
       "[(15678, 3), (19375, 4)]"
      ]
     },
     "metadata": {},
     "output_type": "display_data"
    },
    {
     "data": {
      "text/plain": [
       "[(19376, 4), (19377, 4)]"
      ]
     },
     "metadata": {},
     "output_type": "display_data"
    },
    {
     "data": {
      "text/plain": [
       "[(14712, 2), (19378, 4)]"
      ]
     },
     "metadata": {},
     "output_type": "display_data"
    },
    {
     "data": {
      "text/plain": [
       "[(387, 1), (19379, 4)]"
      ]
     },
     "metadata": {},
     "output_type": "display_data"
    },
    {
     "data": {
      "text/plain": [
       "[(14715, 2), (19380, 4)]"
      ]
     },
     "metadata": {},
     "output_type": "display_data"
    },
    {
     "data": {
      "text/plain": [
       "[(14719, 2), (19381, 4)]"
      ]
     },
     "metadata": {},
     "output_type": "display_data"
    },
    {
     "name": "stdout",
     "output_type": "stream",
     "text": [
      "[10, 8, 17, 18, 17, 18, 17, 18, 17, 18, 23, 21, 23, 21, 28, 29, 28, 29, 28, 29, 28, 29, 31, 33, 34, 32, 31, 32, 37, 38, 37, 36, 40, 39, 40, 42, 40, 39, 45, 43, 45, 46, 44, 43, 51, 50, 49, 50, 51, 52, 54, 55, 68, 191, 194, 205, 212, 215, 223, 233, 286, 302, 304, 302, 304, 302, 304, 302, 304, 323, 430, 432, 443, 449, 451, 463, 2, 24, 57, 12713, 12714, 58, 12721, 65, 66, 12728, 148, 14588, 15, 14593, 15, 14592, 15, 14592, 14596, 14595, 14596, 14595, 14594, 14595, 14600, 20, 14599, 20, 14600, 20, 23, 21, 37, 36, 54, 55, 54, 55, 14607, 14615, 14616, 14644, 12731, 14647, 162, 14672, 202, 226, 227, 236, 275, 307, 372, 375, 408, 14726, 14729, 438, 439, 446, 459, 460, 461, 464, 14662, 14663, 163, 164, 165, 172, 14668, 14669, 14671, 15631, 250, 257, 266, 270, 273, 15638, 288, 327, 353, 370, 374, 14707, 15685, 379, 15688, 14710, 15695, 15697, 398, 15701, 14718, 14720, 14721, 14722, 15713, 15715, 422, 14724, 14727, 434, 15722, 15725, 14732, 444, 448, 453, 457, 458, 14739, 15735, 14658, 14659, 15630, 15634, 19374, 15678, 19377, 14712, 387, 14715, 14719]\n"
     ]
    }
   ],
   "source": [
    "remove_index = [] # the list of indexes that need to be removed after running for-loop\n",
    "\n",
    "df['conditionNum'] = 0\n",
    "df.loc[df['condition'] == 'A', 'conditionNum'] = 1\n",
    "df.loc[df['condition'] == 'B', 'conditionNum'] = 2\n",
    "df.loc[df['condition'] == 'C', 'conditionNum'] = 3\n",
    "df.loc[df['condition'] == 'D', 'conditionNum'] = 4\n",
    "\n",
    "for index in duplicateRows.index: \n",
    "    # retrieve latitude and longitude\n",
    "    latitude = df.loc[index, 'lat'] \n",
    "    longitude = df.loc[index, 'lon']\n",
    "\n",
    "    # define a subset of duplicates based on the latitude and longitude\n",
    "    subset = df.loc[((df['lat'] == latitude) & (df['lon'] == longitude))] \n",
    "    \n",
    "    # define lists for bridges with left, right, or neither in their name\n",
    "    contains_left = []\n",
    "    contains_right = []\n",
    "    contains_none = []\n",
    "    \n",
    "    for index in subset.index: \n",
    "        # for every row in subset, retrieve condition and assign to set\n",
    "        condition = subset.loc[index, 'conditionNum']\n",
    "        condition_set = (index, condition)\n",
    "        \n",
    "        # retrieve name and whether L or R in name\n",
    "        name = subset.loc[index, 'name']\n",
    "        last_letter = name[-1:]\n",
    "        \n",
    "        if last_letter == 'R': \n",
    "            contains_right.append(condition_set)\n",
    "\n",
    "        elif last_letter == 'L': \n",
    "            contains_left.append(condition_set)\n",
    "\n",
    "        else: \n",
    "            contains_none.append(condition_set)   \n",
    "    display(contains_none)\n",
    "    if len(contains_left) == 0 and len(contains_right) == 0 and len(contains_none) > 0:  \n",
    "        if contains_none[0][1] == contains_none[1][1]: \n",
    "            random_none = random.choice(contains_none)\n",
    "            remove_index.append(random_none[0])\n",
    "\n",
    "        elif contains_none[0][1] < contains_none[1][1]: \n",
    "            remove_index.append(contains_none[0][0])\n",
    "\n",
    "        elif contains_none[0][1] > contains_none[1][1]: \n",
    "            remove_index.append(contains_none[1][0])\n",
    "            \n",
    "    if len(contains_left) == 1 and len(contains_right) == 1 and len(contains_none) == 1: \n",
    "        for element in contains_left: \n",
    "            remove_index.append(element[0])\n",
    "        for element in contains_right: \n",
    "            remove_index.append(element[0])\n",
    "            \n",
    "    if len(contains_left) == 2: \n",
    "        if contains_left[0][1] == contains_left[1][1]: \n",
    "            random_left = random.choice(contains_left)\n",
    "            remove_index.append(random_left[0])\n",
    "\n",
    "        elif contains_left[0][1] < contains_left[1][1]: \n",
    "            remove_index.append(contains_left[0][0])\n",
    "\n",
    "        elif contains_left[0][1] > contains_left[1][1]: \n",
    "            remove_index.append(contains_left[1][0])\n",
    "\n",
    "    if len(contains_right) == 2: \n",
    "        if contains_right[0][1] == contains_right[1][1]: \n",
    "            random_left = random.choice(contains_right)\n",
    "            remove_index.append(random_left[0])\n",
    "\n",
    "        elif contains_right[0][1] < contains_right[1][1]: \n",
    "            remove_index.append(contains_right[0][0])\n",
    "\n",
    "        elif contains_right[0][1] > contains_right[1][1]: \n",
    "            remove_index.append(contains_right[1][0])\n",
    "                \n",
    "    if len(contains_left) == 1 and len(contains_none) == 1: \n",
    "        for element in contains_left: \n",
    "            remove_index.append(element[0])\n",
    "            \n",
    "    if len(contains_right) == 1 and len(contains_none) == 1: \n",
    "        for element in contains_right: \n",
    "            remove_index.append(element[0])\n",
    "            \n",
    "    if len(contains_right) == 1 and len(contains_left) == 1 and len(contains_none) == 0: \n",
    "        continue\n",
    "        \n",
    "                \n",
    "print(remove_index)"
   ]
  },
  {
   "cell_type": "code",
   "execution_count": 260,
   "id": "93868cba-b5a8-47bd-8049-f43185b4a7bd",
   "metadata": {
    "tags": []
   },
   "outputs": [
    {
     "name": "stdout",
     "output_type": "stream",
     "text": [
      "all indexes to remove: [10, 8, 17, 18, 17, 18, 17, 18, 17, 18, 23, 21, 23, 21, 28, 29, 28, 29, 28, 29, 28, 29, 31, 33, 34, 32, 31, 32, 37, 38, 37, 36, 40, 39, 40, 42, 40, 39, 45, 43, 45, 46, 44, 43, 51, 50, 49, 50, 51, 52, 54, 55, 68, 191, 194, 205, 212, 215, 223, 233, 286, 302, 304, 302, 304, 302, 304, 302, 304, 323, 430, 432, 443, 449, 451, 463, 2, 24, 57, 12713, 12714, 58, 12721, 65, 66, 12728, 148, 14588, 15, 14593, 15, 14592, 15, 14592, 14596, 14595, 14596, 14595, 14594, 14595, 14600, 20, 14599, 20, 14600, 20, 23, 21, 37, 36, 54, 55, 54, 55, 14607, 14615, 14616, 14644, 12731, 14647, 162, 14672, 202, 226, 227, 236, 275, 307, 372, 375, 408, 14726, 14729, 438, 439, 446, 459, 460, 461, 464, 14662, 14663, 163, 164, 165, 172, 14668, 14669, 14671, 15631, 250, 257, 266, 270, 273, 15638, 288, 327, 353, 370, 374, 14707, 15685, 379, 15688, 14710, 15695, 15697, 398, 15701, 14718, 14720, 14721, 14722, 15713, 15715, 422, 14724, 14727, 434, 15722, 15725, 14732, 444, 448, 453, 457, 458, 14739, 15735, 14658, 14659, 15630, 15634, 19374, 15678, 19377, 14712, 387, 14715, 14719]\n",
      "\n",
      "\n",
      "unique indexes to remove: [10, 8, 17, 18, 23, 21, 28, 29, 31, 33, 34, 32, 37, 38, 36, 40, 39, 42, 45, 43, 46, 44, 51, 50, 49, 52, 54, 55, 68, 191, 194, 205, 212, 215, 223, 233, 286, 302, 304, 323, 430, 432, 443, 449, 451, 463, 2, 24, 57, 12713, 12714, 58, 12721, 65, 66, 12728, 148, 14588, 15, 14593, 14592, 14596, 14595, 14594, 14600, 20, 14599, 14607, 14615, 14616, 14644, 12731, 14647, 162, 14672, 202, 226, 227, 236, 275, 307, 372, 375, 408, 14726, 14729, 438, 439, 446, 459, 460, 461, 464, 14662, 14663, 163, 164, 165, 172, 14668, 14669, 14671, 15631, 250, 257, 266, 270, 273, 15638, 288, 327, 353, 370, 374, 14707, 15685, 379, 15688, 14710, 15695, 15697, 398, 15701, 14718, 14720, 14721, 14722, 15713, 15715, 422, 14724, 14727, 434, 15722, 15725, 14732, 444, 448, 453, 457, 458, 14739, 15735, 14658, 14659, 15630, 15634, 19374, 15678, 19377, 14712, 387, 14715, 14719]\n"
     ]
    }
   ],
   "source": [
    "print('all indexes to remove:', remove_index)\n",
    "used = set()\n",
    "unique_indexes = [x for x in remove_index if x not in used and (used.add(x) or True)]\n",
    "print('\\n')\n",
    "print('unique indexes to remove:', unique_indexes)"
   ]
  },
  {
   "cell_type": "code",
   "execution_count": 261,
   "id": "1100a952-eaad-4b74-b6b2-c76fab009a08",
   "metadata": {
    "tags": []
   },
   "outputs": [],
   "source": [
    "for element in unique_indexes: \n",
    "    df = df.drop(index = element)"
   ]
  },
  {
   "cell_type": "code",
   "execution_count": 262,
   "id": "e5bef9c0-65b7-445c-b3a9-1c991915ba25",
   "metadata": {
    "tags": []
   },
   "outputs": [
    {
     "data": {
      "text/html": [
       "<div>\n",
       "<style scoped>\n",
       "    .dataframe tbody tr th:only-of-type {\n",
       "        vertical-align: middle;\n",
       "    }\n",
       "\n",
       "    .dataframe tbody tr th {\n",
       "        vertical-align: top;\n",
       "    }\n",
       "\n",
       "    .dataframe thead th {\n",
       "        text-align: right;\n",
       "    }\n",
       "</style>\n",
       "<table border=\"1\" class=\"dataframe\">\n",
       "  <thead>\n",
       "    <tr style=\"text-align: right;\">\n",
       "      <th></th>\n",
       "      <th>road</th>\n",
       "      <th>km</th>\n",
       "      <th>type</th>\n",
       "      <th>name</th>\n",
       "      <th>length</th>\n",
       "      <th>condition</th>\n",
       "      <th>lat</th>\n",
       "      <th>lon</th>\n",
       "      <th>conditionNum</th>\n",
       "    </tr>\n",
       "  </thead>\n",
       "  <tbody>\n",
       "    <tr>\n",
       "      <th>14</th>\n",
       "      <td>N1</td>\n",
       "      <td>17.222</td>\n",
       "      <td>PC Girder Bridge</td>\n",
       "      <td>Darikandi Bridge (L</td>\n",
       "      <td>20.5</td>\n",
       "      <td>A</td>\n",
       "      <td>23.653972</td>\n",
       "      <td>90.577410</td>\n",
       "      <td>1</td>\n",
       "    </tr>\n",
       "    <tr>\n",
       "      <th>14590</th>\n",
       "      <td>N1</td>\n",
       "      <td>17.722</td>\n",
       "      <td>PC Girder Bridge</td>\n",
       "      <td>DARIKANDI BRIDGE (L</td>\n",
       "      <td>20.0</td>\n",
       "      <td>B</td>\n",
       "      <td>23.651571</td>\n",
       "      <td>90.581494</td>\n",
       "      <td>2</td>\n",
       "    </tr>\n",
       "    <tr>\n",
       "      <th>14602</th>\n",
       "      <td>N1</td>\n",
       "      <td>23.081</td>\n",
       "      <td>PC Girder Bridge</td>\n",
       "      <td>ASHIR CHAR (R</td>\n",
       "      <td>116.8</td>\n",
       "      <td>B</td>\n",
       "      <td>23.613587</td>\n",
       "      <td>90.610903</td>\n",
       "      <td>2</td>\n",
       "    </tr>\n",
       "    <tr>\n",
       "      <th>14605</th>\n",
       "      <td>N1</td>\n",
       "      <td>35.408</td>\n",
       "      <td>RCC Girder Bridge</td>\n",
       "      <td>CHAR BOWSHIA BRIDGE(R</td>\n",
       "      <td>24.5</td>\n",
       "      <td>B</td>\n",
       "      <td>23.531400</td>\n",
       "      <td>90.687449</td>\n",
       "      <td>2</td>\n",
       "    </tr>\n",
       "    <tr>\n",
       "      <th>14648</th>\n",
       "      <td>N1</td>\n",
       "      <td>165.183</td>\n",
       "      <td>PC Girder Bridge</td>\n",
       "      <td>DHOOM GHAT PC GIRDER</td>\n",
       "      <td>220.6</td>\n",
       "      <td>B</td>\n",
       "      <td>22.914965</td>\n",
       "      <td>91.526290</td>\n",
       "      <td>2</td>\n",
       "    </tr>\n",
       "    <tr>\n",
       "      <th>134</th>\n",
       "      <td>N1</td>\n",
       "      <td>201.999</td>\n",
       "      <td>Box Culvert</td>\n",
       "      <td>DULAHAJRA(R</td>\n",
       "      <td>4.6</td>\n",
       "      <td>A</td>\n",
       "      <td>22.614990</td>\n",
       "      <td>91.660267</td>\n",
       "      <td>1</td>\n",
       "    </tr>\n",
       "    <tr>\n",
       "      <th>14667</th>\n",
       "      <td>N1</td>\n",
       "      <td>255.505</td>\n",
       "      <td>Box Culvert</td>\n",
       "      <td>MUNSHA BOX CULVERT(L</td>\n",
       "      <td>10.8</td>\n",
       "      <td>B</td>\n",
       "      <td>22.308319</td>\n",
       "      <td>91.914215</td>\n",
       "      <td>2</td>\n",
       "    </tr>\n",
       "    <tr>\n",
       "      <th>428</th>\n",
       "      <td>N1</td>\n",
       "      <td>448.581</td>\n",
       "      <td>Box Culvert</td>\n",
       "      <td>NOYA PARA BOX CULVERT(R</td>\n",
       "      <td>1.2</td>\n",
       "      <td>A</td>\n",
       "      <td>20.964189</td>\n",
       "      <td>92.251882</td>\n",
       "      <td>1</td>\n",
       "    </tr>\n",
       "  </tbody>\n",
       "</table>\n",
       "</div>"
      ],
      "text/plain": [
       "      road       km               type                     name  length  \\\n",
       "14      N1   17.222   PC Girder Bridge      Darikandi Bridge (L    20.5   \n",
       "14590   N1   17.722   PC Girder Bridge      DARIKANDI BRIDGE (L    20.0   \n",
       "14602   N1   23.081   PC Girder Bridge            ASHIR CHAR (R   116.8   \n",
       "14605   N1   35.408  RCC Girder Bridge    CHAR BOWSHIA BRIDGE(R    24.5   \n",
       "14648   N1  165.183   PC Girder Bridge     DHOOM GHAT PC GIRDER   220.6   \n",
       "134     N1  201.999        Box Culvert              DULAHAJRA(R     4.6   \n",
       "14667   N1  255.505        Box Culvert     MUNSHA BOX CULVERT(L    10.8   \n",
       "428     N1  448.581        Box Culvert  NOYA PARA BOX CULVERT(R     1.2   \n",
       "\n",
       "      condition        lat        lon  conditionNum  \n",
       "14            A  23.653972  90.577410             1  \n",
       "14590         B  23.651571  90.581494             2  \n",
       "14602         B  23.613587  90.610903             2  \n",
       "14605         B  23.531400  90.687449             2  \n",
       "14648         B  22.914965  91.526290             2  \n",
       "134           A  22.614990  91.660267             1  \n",
       "14667         B  22.308319  91.914215             2  \n",
       "428           A  20.964189  92.251882             1  "
      ]
     },
     "execution_count": 262,
     "metadata": {},
     "output_type": "execute_result"
    }
   ],
   "source": [
    "duplicateRows = df[df['road'] == 'N1']\n",
    "duplicateRows = duplicateRows[duplicateRows.duplicated(subset=['lat', 'lon'])]\n",
    "duplicateRows.sort_values(by=['km'])"
   ]
  },
  {
   "cell_type": "code",
   "execution_count": 263,
   "id": "57b88650-e2e2-4e9e-81ec-3b4ed3638b4d",
   "metadata": {
    "tags": []
   },
   "outputs": [
    {
     "data": {
      "text/html": [
       "<div>\n",
       "<style scoped>\n",
       "    .dataframe tbody tr th:only-of-type {\n",
       "        vertical-align: middle;\n",
       "    }\n",
       "\n",
       "    .dataframe tbody tr th {\n",
       "        vertical-align: top;\n",
       "    }\n",
       "\n",
       "    .dataframe thead th {\n",
       "        text-align: right;\n",
       "    }\n",
       "</style>\n",
       "<table border=\"1\" class=\"dataframe\">\n",
       "  <thead>\n",
       "    <tr style=\"text-align: right;\">\n",
       "      <th></th>\n",
       "      <th>road</th>\n",
       "      <th>km</th>\n",
       "      <th>type</th>\n",
       "      <th>name</th>\n",
       "      <th>length</th>\n",
       "      <th>condition</th>\n",
       "      <th>lat</th>\n",
       "      <th>lon</th>\n",
       "      <th>conditionNum</th>\n",
       "    </tr>\n",
       "  </thead>\n",
       "  <tbody>\n",
       "    <tr>\n",
       "      <th>13</th>\n",
       "      <td>N1</td>\n",
       "      <td>17.222</td>\n",
       "      <td>PC Girder Bridge</td>\n",
       "      <td>Darikandi Bridge (R</td>\n",
       "      <td>20.45</td>\n",
       "      <td>A</td>\n",
       "      <td>23.653972</td>\n",
       "      <td>90.57741</td>\n",
       "      <td>1</td>\n",
       "    </tr>\n",
       "    <tr>\n",
       "      <th>14</th>\n",
       "      <td>N1</td>\n",
       "      <td>17.222</td>\n",
       "      <td>PC Girder Bridge</td>\n",
       "      <td>Darikandi Bridge (L</td>\n",
       "      <td>20.50</td>\n",
       "      <td>A</td>\n",
       "      <td>23.653972</td>\n",
       "      <td>90.57741</td>\n",
       "      <td>1</td>\n",
       "    </tr>\n",
       "  </tbody>\n",
       "</table>\n",
       "</div>"
      ],
      "text/plain": [
       "   road      km              type                 name  length condition  \\\n",
       "13   N1  17.222  PC Girder Bridge  Darikandi Bridge (R   20.45         A   \n",
       "14   N1  17.222  PC Girder Bridge  Darikandi Bridge (L   20.50         A   \n",
       "\n",
       "          lat       lon  conditionNum  \n",
       "13  23.653972  90.57741             1  \n",
       "14  23.653972  90.57741             1  "
      ]
     },
     "metadata": {},
     "output_type": "display_data"
    },
    {
     "data": {
      "text/html": [
       "<div>\n",
       "<style scoped>\n",
       "    .dataframe tbody tr th:only-of-type {\n",
       "        vertical-align: middle;\n",
       "    }\n",
       "\n",
       "    .dataframe tbody tr th {\n",
       "        vertical-align: top;\n",
       "    }\n",
       "\n",
       "    .dataframe thead th {\n",
       "        text-align: right;\n",
       "    }\n",
       "</style>\n",
       "<table border=\"1\" class=\"dataframe\">\n",
       "  <thead>\n",
       "    <tr style=\"text-align: right;\">\n",
       "      <th></th>\n",
       "      <th>road</th>\n",
       "      <th>km</th>\n",
       "      <th>type</th>\n",
       "      <th>name</th>\n",
       "      <th>length</th>\n",
       "      <th>condition</th>\n",
       "      <th>lat</th>\n",
       "      <th>lon</th>\n",
       "      <th>conditionNum</th>\n",
       "    </tr>\n",
       "  </thead>\n",
       "  <tbody>\n",
       "    <tr>\n",
       "      <th>133</th>\n",
       "      <td>N1</td>\n",
       "      <td>201.999</td>\n",
       "      <td>Slab Culvert</td>\n",
       "      <td>PURBOMOHADAB PUR SLAB CULVERT(L</td>\n",
       "      <td>4.6</td>\n",
       "      <td>A</td>\n",
       "      <td>22.61499</td>\n",
       "      <td>91.660267</td>\n",
       "      <td>1</td>\n",
       "    </tr>\n",
       "    <tr>\n",
       "      <th>134</th>\n",
       "      <td>N1</td>\n",
       "      <td>201.999</td>\n",
       "      <td>Box Culvert</td>\n",
       "      <td>DULAHAJRA(R</td>\n",
       "      <td>4.6</td>\n",
       "      <td>A</td>\n",
       "      <td>22.61499</td>\n",
       "      <td>91.660267</td>\n",
       "      <td>1</td>\n",
       "    </tr>\n",
       "  </tbody>\n",
       "</table>\n",
       "</div>"
      ],
      "text/plain": [
       "    road       km          type                             name  length  \\\n",
       "133   N1  201.999  Slab Culvert  PURBOMOHADAB PUR SLAB CULVERT(L     4.6   \n",
       "134   N1  201.999   Box Culvert                      DULAHAJRA(R     4.6   \n",
       "\n",
       "    condition       lat        lon  conditionNum  \n",
       "133         A  22.61499  91.660267             1  \n",
       "134         A  22.61499  91.660267             1  "
      ]
     },
     "metadata": {},
     "output_type": "display_data"
    },
    {
     "data": {
      "text/html": [
       "<div>\n",
       "<style scoped>\n",
       "    .dataframe tbody tr th:only-of-type {\n",
       "        vertical-align: middle;\n",
       "    }\n",
       "\n",
       "    .dataframe tbody tr th {\n",
       "        vertical-align: top;\n",
       "    }\n",
       "\n",
       "    .dataframe thead th {\n",
       "        text-align: right;\n",
       "    }\n",
       "</style>\n",
       "<table border=\"1\" class=\"dataframe\">\n",
       "  <thead>\n",
       "    <tr style=\"text-align: right;\">\n",
       "      <th></th>\n",
       "      <th>road</th>\n",
       "      <th>km</th>\n",
       "      <th>type</th>\n",
       "      <th>name</th>\n",
       "      <th>length</th>\n",
       "      <th>condition</th>\n",
       "      <th>lat</th>\n",
       "      <th>lon</th>\n",
       "      <th>conditionNum</th>\n",
       "    </tr>\n",
       "  </thead>\n",
       "  <tbody>\n",
       "    <tr>\n",
       "      <th>427</th>\n",
       "      <td>N1</td>\n",
       "      <td>448.581</td>\n",
       "      <td>Box Culvert</td>\n",
       "      <td>NOYA PARA (MUSJID BOX CULVERT(L</td>\n",
       "      <td>1.2</td>\n",
       "      <td>A</td>\n",
       "      <td>20.964189</td>\n",
       "      <td>92.251882</td>\n",
       "      <td>1</td>\n",
       "    </tr>\n",
       "    <tr>\n",
       "      <th>428</th>\n",
       "      <td>N1</td>\n",
       "      <td>448.581</td>\n",
       "      <td>Box Culvert</td>\n",
       "      <td>NOYA PARA BOX CULVERT(R</td>\n",
       "      <td>1.2</td>\n",
       "      <td>A</td>\n",
       "      <td>20.964189</td>\n",
       "      <td>92.251882</td>\n",
       "      <td>1</td>\n",
       "    </tr>\n",
       "  </tbody>\n",
       "</table>\n",
       "</div>"
      ],
      "text/plain": [
       "    road       km         type                             name  length  \\\n",
       "427   N1  448.581  Box Culvert  NOYA PARA (MUSJID BOX CULVERT(L     1.2   \n",
       "428   N1  448.581  Box Culvert          NOYA PARA BOX CULVERT(R     1.2   \n",
       "\n",
       "    condition        lat        lon  conditionNum  \n",
       "427         A  20.964189  92.251882             1  \n",
       "428         A  20.964189  92.251882             1  "
      ]
     },
     "metadata": {},
     "output_type": "display_data"
    },
    {
     "data": {
      "text/html": [
       "<div>\n",
       "<style scoped>\n",
       "    .dataframe tbody tr th:only-of-type {\n",
       "        vertical-align: middle;\n",
       "    }\n",
       "\n",
       "    .dataframe tbody tr th {\n",
       "        vertical-align: top;\n",
       "    }\n",
       "\n",
       "    .dataframe thead th {\n",
       "        text-align: right;\n",
       "    }\n",
       "</style>\n",
       "<table border=\"1\" class=\"dataframe\">\n",
       "  <thead>\n",
       "    <tr style=\"text-align: right;\">\n",
       "      <th></th>\n",
       "      <th>road</th>\n",
       "      <th>km</th>\n",
       "      <th>type</th>\n",
       "      <th>name</th>\n",
       "      <th>length</th>\n",
       "      <th>condition</th>\n",
       "      <th>lat</th>\n",
       "      <th>lon</th>\n",
       "      <th>conditionNum</th>\n",
       "    </tr>\n",
       "  </thead>\n",
       "  <tbody>\n",
       "    <tr>\n",
       "      <th>14589</th>\n",
       "      <td>N1</td>\n",
       "      <td>17.722</td>\n",
       "      <td>PC Girder Bridge</td>\n",
       "      <td>DARIKANDI BRIDGE (R</td>\n",
       "      <td>20.0</td>\n",
       "      <td>B</td>\n",
       "      <td>23.651571</td>\n",
       "      <td>90.581494</td>\n",
       "      <td>2</td>\n",
       "    </tr>\n",
       "    <tr>\n",
       "      <th>14590</th>\n",
       "      <td>N1</td>\n",
       "      <td>17.722</td>\n",
       "      <td>PC Girder Bridge</td>\n",
       "      <td>DARIKANDI BRIDGE (L</td>\n",
       "      <td>20.0</td>\n",
       "      <td>B</td>\n",
       "      <td>23.651571</td>\n",
       "      <td>90.581494</td>\n",
       "      <td>2</td>\n",
       "    </tr>\n",
       "  </tbody>\n",
       "</table>\n",
       "</div>"
      ],
      "text/plain": [
       "      road      km              type                 name  length condition  \\\n",
       "14589   N1  17.722  PC Girder Bridge  DARIKANDI BRIDGE (R    20.0         B   \n",
       "14590   N1  17.722  PC Girder Bridge  DARIKANDI BRIDGE (L    20.0         B   \n",
       "\n",
       "             lat        lon  conditionNum  \n",
       "14589  23.651571  90.581494             2  \n",
       "14590  23.651571  90.581494             2  "
      ]
     },
     "metadata": {},
     "output_type": "display_data"
    },
    {
     "data": {
      "text/html": [
       "<div>\n",
       "<style scoped>\n",
       "    .dataframe tbody tr th:only-of-type {\n",
       "        vertical-align: middle;\n",
       "    }\n",
       "\n",
       "    .dataframe tbody tr th {\n",
       "        vertical-align: top;\n",
       "    }\n",
       "\n",
       "    .dataframe thead th {\n",
       "        text-align: right;\n",
       "    }\n",
       "</style>\n",
       "<table border=\"1\" class=\"dataframe\">\n",
       "  <thead>\n",
       "    <tr style=\"text-align: right;\">\n",
       "      <th></th>\n",
       "      <th>road</th>\n",
       "      <th>km</th>\n",
       "      <th>type</th>\n",
       "      <th>name</th>\n",
       "      <th>length</th>\n",
       "      <th>condition</th>\n",
       "      <th>lat</th>\n",
       "      <th>lon</th>\n",
       "      <th>conditionNum</th>\n",
       "    </tr>\n",
       "  </thead>\n",
       "  <tbody>\n",
       "    <tr>\n",
       "      <th>22</th>\n",
       "      <td>N1</td>\n",
       "      <td>23.081</td>\n",
       "      <td>PC Girder Bridge</td>\n",
       "      <td>Ashariachar-2 Bridge.(L</td>\n",
       "      <td>119.48</td>\n",
       "      <td>A</td>\n",
       "      <td>23.613587</td>\n",
       "      <td>90.610903</td>\n",
       "      <td>1</td>\n",
       "    </tr>\n",
       "    <tr>\n",
       "      <th>14602</th>\n",
       "      <td>N1</td>\n",
       "      <td>23.081</td>\n",
       "      <td>PC Girder Bridge</td>\n",
       "      <td>ASHIR CHAR (R</td>\n",
       "      <td>116.80</td>\n",
       "      <td>B</td>\n",
       "      <td>23.613587</td>\n",
       "      <td>90.610903</td>\n",
       "      <td>2</td>\n",
       "    </tr>\n",
       "  </tbody>\n",
       "</table>\n",
       "</div>"
      ],
      "text/plain": [
       "      road      km              type                     name  length  \\\n",
       "22      N1  23.081  PC Girder Bridge  Ashariachar-2 Bridge.(L  119.48   \n",
       "14602   N1  23.081  PC Girder Bridge            ASHIR CHAR (R  116.80   \n",
       "\n",
       "      condition        lat        lon  conditionNum  \n",
       "22            A  23.613587  90.610903             1  \n",
       "14602         B  23.613587  90.610903             2  "
      ]
     },
     "metadata": {},
     "output_type": "display_data"
    },
    {
     "data": {
      "text/html": [
       "<div>\n",
       "<style scoped>\n",
       "    .dataframe tbody tr th:only-of-type {\n",
       "        vertical-align: middle;\n",
       "    }\n",
       "\n",
       "    .dataframe tbody tr th {\n",
       "        vertical-align: top;\n",
       "    }\n",
       "\n",
       "    .dataframe thead th {\n",
       "        text-align: right;\n",
       "    }\n",
       "</style>\n",
       "<table border=\"1\" class=\"dataframe\">\n",
       "  <thead>\n",
       "    <tr style=\"text-align: right;\">\n",
       "      <th></th>\n",
       "      <th>road</th>\n",
       "      <th>km</th>\n",
       "      <th>type</th>\n",
       "      <th>name</th>\n",
       "      <th>length</th>\n",
       "      <th>condition</th>\n",
       "      <th>lat</th>\n",
       "      <th>lon</th>\n",
       "      <th>conditionNum</th>\n",
       "    </tr>\n",
       "  </thead>\n",
       "  <tbody>\n",
       "    <tr>\n",
       "      <th>14604</th>\n",
       "      <td>N1</td>\n",
       "      <td>35.408</td>\n",
       "      <td>PC Girder Bridge</td>\n",
       "      <td>BORAKANDI BRIDGE(L</td>\n",
       "      <td>24.5</td>\n",
       "      <td>B</td>\n",
       "      <td>23.5314</td>\n",
       "      <td>90.687449</td>\n",
       "      <td>2</td>\n",
       "    </tr>\n",
       "    <tr>\n",
       "      <th>14605</th>\n",
       "      <td>N1</td>\n",
       "      <td>35.408</td>\n",
       "      <td>RCC Girder Bridge</td>\n",
       "      <td>CHAR BOWSHIA BRIDGE(R</td>\n",
       "      <td>24.5</td>\n",
       "      <td>B</td>\n",
       "      <td>23.5314</td>\n",
       "      <td>90.687449</td>\n",
       "      <td>2</td>\n",
       "    </tr>\n",
       "  </tbody>\n",
       "</table>\n",
       "</div>"
      ],
      "text/plain": [
       "      road      km               type                   name  length  \\\n",
       "14604   N1  35.408   PC Girder Bridge     BORAKANDI BRIDGE(L    24.5   \n",
       "14605   N1  35.408  RCC Girder Bridge  CHAR BOWSHIA BRIDGE(R    24.5   \n",
       "\n",
       "      condition      lat        lon  conditionNum  \n",
       "14604         B  23.5314  90.687449             2  \n",
       "14605         B  23.5314  90.687449             2  "
      ]
     },
     "metadata": {},
     "output_type": "display_data"
    },
    {
     "data": {
      "text/html": [
       "<div>\n",
       "<style scoped>\n",
       "    .dataframe tbody tr th:only-of-type {\n",
       "        vertical-align: middle;\n",
       "    }\n",
       "\n",
       "    .dataframe tbody tr th {\n",
       "        vertical-align: top;\n",
       "    }\n",
       "\n",
       "    .dataframe thead th {\n",
       "        text-align: right;\n",
       "    }\n",
       "</style>\n",
       "<table border=\"1\" class=\"dataframe\">\n",
       "  <thead>\n",
       "    <tr style=\"text-align: right;\">\n",
       "      <th></th>\n",
       "      <th>road</th>\n",
       "      <th>km</th>\n",
       "      <th>type</th>\n",
       "      <th>name</th>\n",
       "      <th>length</th>\n",
       "      <th>condition</th>\n",
       "      <th>lat</th>\n",
       "      <th>lon</th>\n",
       "      <th>conditionNum</th>\n",
       "    </tr>\n",
       "  </thead>\n",
       "  <tbody>\n",
       "    <tr>\n",
       "      <th>92</th>\n",
       "      <td>N1</td>\n",
       "      <td>165.183</td>\n",
       "      <td>PC Girder Bridge</td>\n",
       "      <td>DumGhat Bridge(L</td>\n",
       "      <td>222.43</td>\n",
       "      <td>A</td>\n",
       "      <td>22.914965</td>\n",
       "      <td>91.52629</td>\n",
       "      <td>1</td>\n",
       "    </tr>\n",
       "    <tr>\n",
       "      <th>14648</th>\n",
       "      <td>N1</td>\n",
       "      <td>165.183</td>\n",
       "      <td>PC Girder Bridge</td>\n",
       "      <td>DHOOM GHAT PC GIRDER</td>\n",
       "      <td>220.60</td>\n",
       "      <td>B</td>\n",
       "      <td>22.914965</td>\n",
       "      <td>91.52629</td>\n",
       "      <td>2</td>\n",
       "    </tr>\n",
       "  </tbody>\n",
       "</table>\n",
       "</div>"
      ],
      "text/plain": [
       "      road       km              type                  name  length condition  \\\n",
       "92      N1  165.183  PC Girder Bridge      DumGhat Bridge(L  222.43         A   \n",
       "14648   N1  165.183  PC Girder Bridge  DHOOM GHAT PC GIRDER  220.60         B   \n",
       "\n",
       "             lat       lon  conditionNum  \n",
       "92     22.914965  91.52629             1  \n",
       "14648  22.914965  91.52629             2  "
      ]
     },
     "metadata": {},
     "output_type": "display_data"
    },
    {
     "data": {
      "text/html": [
       "<div>\n",
       "<style scoped>\n",
       "    .dataframe tbody tr th:only-of-type {\n",
       "        vertical-align: middle;\n",
       "    }\n",
       "\n",
       "    .dataframe tbody tr th {\n",
       "        vertical-align: top;\n",
       "    }\n",
       "\n",
       "    .dataframe thead th {\n",
       "        text-align: right;\n",
       "    }\n",
       "</style>\n",
       "<table border=\"1\" class=\"dataframe\">\n",
       "  <thead>\n",
       "    <tr style=\"text-align: right;\">\n",
       "      <th></th>\n",
       "      <th>road</th>\n",
       "      <th>km</th>\n",
       "      <th>type</th>\n",
       "      <th>name</th>\n",
       "      <th>length</th>\n",
       "      <th>condition</th>\n",
       "      <th>lat</th>\n",
       "      <th>lon</th>\n",
       "      <th>conditionNum</th>\n",
       "    </tr>\n",
       "  </thead>\n",
       "  <tbody>\n",
       "    <tr>\n",
       "      <th>174</th>\n",
       "      <td>N1</td>\n",
       "      <td>255.505</td>\n",
       "      <td>Box Culvert</td>\n",
       "      <td>tassi bazer(R</td>\n",
       "      <td>3.0</td>\n",
       "      <td>A</td>\n",
       "      <td>22.308319</td>\n",
       "      <td>91.914215</td>\n",
       "      <td>1</td>\n",
       "    </tr>\n",
       "    <tr>\n",
       "      <th>14667</th>\n",
       "      <td>N1</td>\n",
       "      <td>255.505</td>\n",
       "      <td>Box Culvert</td>\n",
       "      <td>MUNSHA BOX CULVERT(L</td>\n",
       "      <td>10.8</td>\n",
       "      <td>B</td>\n",
       "      <td>22.308319</td>\n",
       "      <td>91.914215</td>\n",
       "      <td>2</td>\n",
       "    </tr>\n",
       "  </tbody>\n",
       "</table>\n",
       "</div>"
      ],
      "text/plain": [
       "      road       km         type                  name  length condition  \\\n",
       "174     N1  255.505  Box Culvert         tassi bazer(R     3.0         A   \n",
       "14667   N1  255.505  Box Culvert  MUNSHA BOX CULVERT(L    10.8         B   \n",
       "\n",
       "             lat        lon  conditionNum  \n",
       "174    22.308319  91.914215             1  \n",
       "14667  22.308319  91.914215             2  "
      ]
     },
     "metadata": {},
     "output_type": "display_data"
    }
   ],
   "source": [
    "for index in duplicateRows.index: \n",
    "    # retrieve latitude and longitude\n",
    "    latitude = df.loc[index, 'lat'] \n",
    "    longitude = df.loc[index, 'lon']\n",
    "\n",
    "    # define a subset of duplicates based on the latitude and longitude\n",
    "    subset = df.loc[((df['lat'] == latitude) & (df['lon'] == longitude))] \n",
    "    display(subset)"
   ]
  },
  {
   "cell_type": "markdown",
   "id": "682b9191-39c2-41df-b4eb-c1cc5522a6bd",
   "metadata": {},
   "source": [
    "## Format data"
   ]
  },
  {
   "cell_type": "code",
   "execution_count": 264,
   "id": "65a5f5c5-8f9c-4767-9795-a209cc1a1809",
   "metadata": {
    "tags": []
   },
   "outputs": [],
   "source": [
    "df = df.reset_index()"
   ]
  },
  {
   "cell_type": "code",
   "execution_count": 265,
   "id": "f14a3ee6-723d-403a-80eb-a0819ee28262",
   "metadata": {
    "tags": []
   },
   "outputs": [
    {
     "name": "stdout",
     "output_type": "stream",
     "text": [
      "<class 'pandas.core.frame.DataFrame'>\n",
      "RangeIndex: 20261 entries, 0 to 20260\n",
      "Data columns (total 10 columns):\n",
      " #   Column        Non-Null Count  Dtype  \n",
      "---  ------        --------------  -----  \n",
      " 0   index         20261 non-null  int64  \n",
      " 1   road          20261 non-null  object \n",
      " 2   km            20261 non-null  float64\n",
      " 3   type          20261 non-null  object \n",
      " 4   name          20261 non-null  object \n",
      " 5   length        20261 non-null  float64\n",
      " 6   condition     20261 non-null  object \n",
      " 7   lat           20261 non-null  float64\n",
      " 8   lon           20261 non-null  float64\n",
      " 9   conditionNum  20261 non-null  int64  \n",
      "dtypes: float64(4), int64(2), object(4)\n",
      "memory usage: 1.5+ MB\n"
     ]
    }
   ],
   "source": [
    "df.info()"
   ]
  },
  {
   "cell_type": "code",
   "execution_count": 266,
   "id": "bdbd142b-bee9-441f-822b-d18e2d912ea9",
   "metadata": {
    "tags": []
   },
   "outputs": [],
   "source": [
    "df = df.drop(\"conditionNum\", axis='columns')"
   ]
  },
  {
   "cell_type": "code",
   "execution_count": 267,
   "id": "40b7f4b5-59e5-4196-ae7e-6ec62331599c",
   "metadata": {
    "tags": []
   },
   "outputs": [],
   "source": [
    "df = df.drop(\"index\", axis='columns')"
   ]
  },
  {
   "cell_type": "code",
   "execution_count": 268,
   "id": "a09f52c7-1e5e-452d-97f2-148ae0d90e37",
   "metadata": {
    "tags": []
   },
   "outputs": [
    {
     "data": {
      "text/html": [
       "<div>\n",
       "<style scoped>\n",
       "    .dataframe tbody tr th:only-of-type {\n",
       "        vertical-align: middle;\n",
       "    }\n",
       "\n",
       "    .dataframe tbody tr th {\n",
       "        vertical-align: top;\n",
       "    }\n",
       "\n",
       "    .dataframe thead th {\n",
       "        text-align: right;\n",
       "    }\n",
       "</style>\n",
       "<table border=\"1\" class=\"dataframe\">\n",
       "  <thead>\n",
       "    <tr style=\"text-align: right;\">\n",
       "      <th></th>\n",
       "      <th>road</th>\n",
       "      <th>km</th>\n",
       "      <th>type</th>\n",
       "      <th>name</th>\n",
       "      <th>length</th>\n",
       "      <th>condition</th>\n",
       "      <th>lat</th>\n",
       "      <th>lon</th>\n",
       "    </tr>\n",
       "  </thead>\n",
       "  <tbody>\n",
       "    <tr>\n",
       "      <th>0</th>\n",
       "      <td>N1</td>\n",
       "      <td>1.800</td>\n",
       "      <td>Box Culvert</td>\n",
       "      <td>.</td>\n",
       "      <td>11.3</td>\n",
       "      <td>A</td>\n",
       "      <td>23.698739</td>\n",
       "      <td>90.458861</td>\n",
       "    </tr>\n",
       "    <tr>\n",
       "      <th>1</th>\n",
       "      <td>N1</td>\n",
       "      <td>4.925</td>\n",
       "      <td>Box Culvert</td>\n",
       "      <td>.</td>\n",
       "      <td>6.6</td>\n",
       "      <td>A</td>\n",
       "      <td>23.694664</td>\n",
       "      <td>90.487775</td>\n",
       "    </tr>\n",
       "    <tr>\n",
       "      <th>2</th>\n",
       "      <td>N1</td>\n",
       "      <td>10.880</td>\n",
       "      <td>Box Culvert</td>\n",
       "      <td>NOYAPARA CULVERT</td>\n",
       "      <td>6.3</td>\n",
       "      <td>A</td>\n",
       "      <td>23.694391</td>\n",
       "      <td>90.537574</td>\n",
       "    </tr>\n",
       "    <tr>\n",
       "      <th>3</th>\n",
       "      <td>N1</td>\n",
       "      <td>10.897</td>\n",
       "      <td>Box Culvert</td>\n",
       "      <td>ADUPUR CULVERT</td>\n",
       "      <td>6.3</td>\n",
       "      <td>A</td>\n",
       "      <td>23.694302</td>\n",
       "      <td>90.537707</td>\n",
       "    </tr>\n",
       "    <tr>\n",
       "      <th>4</th>\n",
       "      <td>N1</td>\n",
       "      <td>11.296</td>\n",
       "      <td>Box Culvert</td>\n",
       "      <td>NAYABARI KASPUR BOX CULVERT</td>\n",
       "      <td>8.3</td>\n",
       "      <td>A</td>\n",
       "      <td>23.692360</td>\n",
       "      <td>90.540918</td>\n",
       "    </tr>\n",
       "  </tbody>\n",
       "</table>\n",
       "</div>"
      ],
      "text/plain": [
       "  road      km         type                         name  length condition  \\\n",
       "0   N1   1.800  Box Culvert                            .    11.3         A   \n",
       "1   N1   4.925  Box Culvert                            .     6.6         A   \n",
       "2   N1  10.880  Box Culvert             NOYAPARA CULVERT     6.3         A   \n",
       "3   N1  10.897  Box Culvert               ADUPUR CULVERT     6.3         A   \n",
       "4   N1  11.296  Box Culvert  NAYABARI KASPUR BOX CULVERT     8.3         A   \n",
       "\n",
       "         lat        lon  \n",
       "0  23.698739  90.458861  \n",
       "1  23.694664  90.487775  \n",
       "2  23.694391  90.537574  \n",
       "3  23.694302  90.537707  \n",
       "4  23.692360  90.540918  "
      ]
     },
     "execution_count": 268,
     "metadata": {},
     "output_type": "execute_result"
    }
   ],
   "source": [
    "df.head()"
   ]
  },
  {
   "cell_type": "code",
   "execution_count": 269,
   "id": "a3cff69d-9ab8-44e1-a53f-360bd280c8c9",
   "metadata": {
    "tags": []
   },
   "outputs": [],
   "source": [
    "df['model_type'] = 'bridge'"
   ]
  },
  {
   "cell_type": "code",
   "execution_count": 270,
   "id": "aeba5aa6-b4cd-4456-8d5a-fa61c72a023a",
   "metadata": {},
   "outputs": [],
   "source": [
    "df = df[df['road'] == 'N1']"
   ]
  },
  {
   "cell_type": "code",
   "execution_count": 271,
   "id": "92793e1a-67c5-46c4-b062-8f32c7a7e195",
   "metadata": {
    "tags": []
   },
   "outputs": [],
   "source": [
    "path=os.path.normpath(os.getcwd() + os.sep + os.pardir)\n",
    "df_roads = pd.read_csv(path+\"\\\\data\\\\roads.csv\")\n",
    "# path+'\\\\EPA133a-G07-A2\\\\data\\\\"
   ]
  },
  {
   "cell_type": "code",
   "execution_count": 272,
   "id": "7ebf8425-c187-45f8-a4b5-d98e71ed31ef",
   "metadata": {
    "tags": []
   },
   "outputs": [],
   "source": [
    "# select only N1 data entries\n",
    "df_roads = df_roads[df_roads['road'] == 'N1']"
   ]
  },
  {
   "cell_type": "code",
   "execution_count": 273,
   "id": "698d878d-6b42-4182-b74b-d5adf1822a22",
   "metadata": {
    "tags": []
   },
   "outputs": [
    {
     "data": {
      "text/html": [
       "<div>\n",
       "<style scoped>\n",
       "    .dataframe tbody tr th:only-of-type {\n",
       "        vertical-align: middle;\n",
       "    }\n",
       "\n",
       "    .dataframe tbody tr th {\n",
       "        vertical-align: top;\n",
       "    }\n",
       "\n",
       "    .dataframe thead th {\n",
       "        text-align: right;\n",
       "    }\n",
       "</style>\n",
       "<table border=\"1\" class=\"dataframe\">\n",
       "  <thead>\n",
       "    <tr style=\"text-align: right;\">\n",
       "      <th></th>\n",
       "      <th>road</th>\n",
       "      <th>chainage</th>\n",
       "      <th>lrp</th>\n",
       "      <th>lat</th>\n",
       "      <th>lon</th>\n",
       "      <th>gap</th>\n",
       "      <th>type</th>\n",
       "      <th>name</th>\n",
       "    </tr>\n",
       "  </thead>\n",
       "  <tbody>\n",
       "    <tr>\n",
       "      <th>0</th>\n",
       "      <td>N1</td>\n",
       "      <td>0.000</td>\n",
       "      <td>LRPS</td>\n",
       "      <td>23.706028</td>\n",
       "      <td>90.443333</td>\n",
       "      <td>NaN</td>\n",
       "      <td>Others</td>\n",
       "      <td>Start of Road  after Jatrabari Flyover infront...</td>\n",
       "    </tr>\n",
       "    <tr>\n",
       "      <th>1</th>\n",
       "      <td>N1</td>\n",
       "      <td>0.814</td>\n",
       "      <td>LRPSa</td>\n",
       "      <td>23.702917</td>\n",
       "      <td>90.450417</td>\n",
       "      <td>NaN</td>\n",
       "      <td>Culvert</td>\n",
       "      <td>Box Culvert</td>\n",
       "    </tr>\n",
       "    <tr>\n",
       "      <th>2</th>\n",
       "      <td>N1</td>\n",
       "      <td>0.822</td>\n",
       "      <td>LRPSb</td>\n",
       "      <td>23.702778</td>\n",
       "      <td>90.450472</td>\n",
       "      <td>NaN</td>\n",
       "      <td>CrossRoad</td>\n",
       "      <td>Intersection with Z1101</td>\n",
       "    </tr>\n",
       "    <tr>\n",
       "      <th>3</th>\n",
       "      <td>N1</td>\n",
       "      <td>1.000</td>\n",
       "      <td>LRP001</td>\n",
       "      <td>23.702139</td>\n",
       "      <td>90.451972</td>\n",
       "      <td>NaN</td>\n",
       "      <td>KmPost</td>\n",
       "      <td>Km post missing</td>\n",
       "    </tr>\n",
       "    <tr>\n",
       "      <th>4</th>\n",
       "      <td>N1</td>\n",
       "      <td>2.000</td>\n",
       "      <td>LRP002</td>\n",
       "      <td>23.697889</td>\n",
       "      <td>90.460583</td>\n",
       "      <td>NaN</td>\n",
       "      <td>KmPost</td>\n",
       "      <td>Km post missing</td>\n",
       "    </tr>\n",
       "  </tbody>\n",
       "</table>\n",
       "</div>"
      ],
      "text/plain": [
       "  road  chainage     lrp        lat        lon  gap       type  \\\n",
       "0   N1     0.000    LRPS  23.706028  90.443333  NaN     Others   \n",
       "1   N1     0.814   LRPSa  23.702917  90.450417  NaN    Culvert   \n",
       "2   N1     0.822   LRPSb  23.702778  90.450472  NaN  CrossRoad   \n",
       "3   N1     1.000  LRP001  23.702139  90.451972  NaN     KmPost   \n",
       "4   N1     2.000  LRP002  23.697889  90.460583  NaN     KmPost   \n",
       "\n",
       "                                                name  \n",
       "0  Start of Road  after Jatrabari Flyover infront...  \n",
       "1                                        Box Culvert  \n",
       "2                            Intersection with Z1101  \n",
       "3                                    Km post missing  \n",
       "4                                    Km post missing  "
      ]
     },
     "execution_count": 273,
     "metadata": {},
     "output_type": "execute_result"
    }
   ],
   "source": [
    "df_roads.head()"
   ]
  },
  {
   "cell_type": "code",
   "execution_count": 274,
   "id": "c0e416db-ca2c-45b3-860d-f613b3c76a3a",
   "metadata": {
    "tags": []
   },
   "outputs": [],
   "source": [
    "df_roads_0 = df_roads[0:1]"
   ]
  },
  {
   "cell_type": "code",
   "execution_count": 275,
   "id": "99ad8b6c-1911-44b5-98bd-79fdd5b5c10c",
   "metadata": {
    "tags": []
   },
   "outputs": [],
   "source": [
    "road_name = df_roads_0.road[0]\n",
    "km = df_roads_0.chainage[0]\n",
    "lrp = df_roads_0.lrp[0]\n",
    "latitude = df_roads_0.lat[0]\n",
    "longitude = df_roads_0.lon[0]\n",
    "type_of_bridge = 'source'\n",
    "bridge_name = 'source'\n",
    "length = 0\n",
    "condition = 'A'"
   ]
  },
  {
   "cell_type": "code",
   "execution_count": 276,
   "id": "1c79f0d8-733d-40c3-8e7d-9633eec8481f",
   "metadata": {
    "tags": []
   },
   "outputs": [],
   "source": [
    "df.loc[-1] = [road_name, km, type_of_bridge, bridge_name, length, \n",
    "              condition, latitude, longitude, type_of_bridge]  # adding a row\n",
    "df.index = df.index + 1  # shifting index\n",
    "df.sort_index(inplace=True) "
   ]
  },
  {
   "cell_type": "code",
   "execution_count": 277,
   "id": "6403efdd-1598-4a64-adf8-079d3c473eae",
   "metadata": {
    "tags": []
   },
   "outputs": [
    {
     "data": {
      "text/html": [
       "<div>\n",
       "<style scoped>\n",
       "    .dataframe tbody tr th:only-of-type {\n",
       "        vertical-align: middle;\n",
       "    }\n",
       "\n",
       "    .dataframe tbody tr th {\n",
       "        vertical-align: top;\n",
       "    }\n",
       "\n",
       "    .dataframe thead th {\n",
       "        text-align: right;\n",
       "    }\n",
       "</style>\n",
       "<table border=\"1\" class=\"dataframe\">\n",
       "  <thead>\n",
       "    <tr style=\"text-align: right;\">\n",
       "      <th></th>\n",
       "      <th>road</th>\n",
       "      <th>km</th>\n",
       "      <th>type</th>\n",
       "      <th>name</th>\n",
       "      <th>length</th>\n",
       "      <th>condition</th>\n",
       "      <th>lat</th>\n",
       "      <th>lon</th>\n",
       "      <th>model_type</th>\n",
       "    </tr>\n",
       "  </thead>\n",
       "  <tbody>\n",
       "    <tr>\n",
       "      <th>0</th>\n",
       "      <td>N1</td>\n",
       "      <td>0.000</td>\n",
       "      <td>source</td>\n",
       "      <td>source</td>\n",
       "      <td>0.0</td>\n",
       "      <td>A</td>\n",
       "      <td>23.706028</td>\n",
       "      <td>90.443333</td>\n",
       "      <td>source</td>\n",
       "    </tr>\n",
       "    <tr>\n",
       "      <th>1</th>\n",
       "      <td>N1</td>\n",
       "      <td>1.800</td>\n",
       "      <td>Box Culvert</td>\n",
       "      <td>.</td>\n",
       "      <td>11.3</td>\n",
       "      <td>A</td>\n",
       "      <td>23.698739</td>\n",
       "      <td>90.458861</td>\n",
       "      <td>bridge</td>\n",
       "    </tr>\n",
       "    <tr>\n",
       "      <th>2</th>\n",
       "      <td>N1</td>\n",
       "      <td>4.925</td>\n",
       "      <td>Box Culvert</td>\n",
       "      <td>.</td>\n",
       "      <td>6.6</td>\n",
       "      <td>A</td>\n",
       "      <td>23.694664</td>\n",
       "      <td>90.487775</td>\n",
       "      <td>bridge</td>\n",
       "    </tr>\n",
       "    <tr>\n",
       "      <th>3</th>\n",
       "      <td>N1</td>\n",
       "      <td>10.880</td>\n",
       "      <td>Box Culvert</td>\n",
       "      <td>NOYAPARA CULVERT</td>\n",
       "      <td>6.3</td>\n",
       "      <td>A</td>\n",
       "      <td>23.694391</td>\n",
       "      <td>90.537574</td>\n",
       "      <td>bridge</td>\n",
       "    </tr>\n",
       "    <tr>\n",
       "      <th>4</th>\n",
       "      <td>N1</td>\n",
       "      <td>10.897</td>\n",
       "      <td>Box Culvert</td>\n",
       "      <td>ADUPUR CULVERT</td>\n",
       "      <td>6.3</td>\n",
       "      <td>A</td>\n",
       "      <td>23.694302</td>\n",
       "      <td>90.537707</td>\n",
       "      <td>bridge</td>\n",
       "    </tr>\n",
       "  </tbody>\n",
       "</table>\n",
       "</div>"
      ],
      "text/plain": [
       "  road      km         type              name  length condition        lat  \\\n",
       "0   N1   0.000       source            source     0.0         A  23.706028   \n",
       "1   N1   1.800  Box Culvert                 .    11.3         A  23.698739   \n",
       "2   N1   4.925  Box Culvert                 .     6.6         A  23.694664   \n",
       "3   N1  10.880  Box Culvert  NOYAPARA CULVERT     6.3         A  23.694391   \n",
       "4   N1  10.897  Box Culvert    ADUPUR CULVERT     6.3         A  23.694302   \n",
       "\n",
       "         lon model_type  \n",
       "0  90.443333     source  \n",
       "1  90.458861     bridge  \n",
       "2  90.487775     bridge  \n",
       "3  90.537574     bridge  \n",
       "4  90.537707     bridge  "
      ]
     },
     "execution_count": 277,
     "metadata": {},
     "output_type": "execute_result"
    }
   ],
   "source": [
    "df.head()"
   ]
  },
  {
   "cell_type": "code",
   "execution_count": 278,
   "id": "8fe707e9-b1c1-4873-8cc9-e6151b7ac238",
   "metadata": {
    "tags": []
   },
   "outputs": [],
   "source": [
    "df_roads_last = df_roads[-1::]"
   ]
  },
  {
   "cell_type": "code",
   "execution_count": 279,
   "id": "fc2bda30-45ab-4545-a15b-8a2530398ea4",
   "metadata": {
    "tags": []
   },
   "outputs": [],
   "source": [
    "df_roads_last = df_roads_last.reset_index()"
   ]
  },
  {
   "cell_type": "code",
   "execution_count": 280,
   "id": "14ce7872-7959-4e77-8ef1-f18b352ca8ba",
   "metadata": {
    "tags": []
   },
   "outputs": [],
   "source": [
    "road_name = df_roads_last.loc[0, 'road']\n",
    "km = df_roads_last.loc[0, 'chainage']\n",
    "lrp = df_roads_last.loc[0, 'lrp']\n",
    "latitude = df_roads_last.loc[0, 'lat']\n",
    "longitude = df_roads_last.loc[0, 'lon']\n",
    "type_of_bridge = 'sink'\n",
    "bridge_name = 'sink'\n",
    "length = 0\n",
    "condition = 'A'"
   ]
  },
  {
   "cell_type": "code",
   "execution_count": 281,
   "id": "17ff95fc-a1ca-4d8d-b8c4-8c2c851338b9",
   "metadata": {
    "tags": []
   },
   "outputs": [],
   "source": [
    "df.loc[len(df)] = [road_name, km, type_of_bridge, bridge_name, length, \n",
    "              condition, latitude, longitude, type_of_bridge]"
   ]
  },
  {
   "cell_type": "code",
   "execution_count": 282,
   "id": "14b185a4-d2bc-4fa8-bdb9-807e6d84c60d",
   "metadata": {
    "tags": []
   },
   "outputs": [
    {
     "data": {
      "text/html": [
       "<div>\n",
       "<style scoped>\n",
       "    .dataframe tbody tr th:only-of-type {\n",
       "        vertical-align: middle;\n",
       "    }\n",
       "\n",
       "    .dataframe tbody tr th {\n",
       "        vertical-align: top;\n",
       "    }\n",
       "\n",
       "    .dataframe thead th {\n",
       "        text-align: right;\n",
       "    }\n",
       "</style>\n",
       "<table border=\"1\" class=\"dataframe\">\n",
       "  <thead>\n",
       "    <tr style=\"text-align: right;\">\n",
       "      <th></th>\n",
       "      <th>road</th>\n",
       "      <th>km</th>\n",
       "      <th>type</th>\n",
       "      <th>name</th>\n",
       "      <th>length</th>\n",
       "      <th>condition</th>\n",
       "      <th>lat</th>\n",
       "      <th>lon</th>\n",
       "      <th>model_type</th>\n",
       "    </tr>\n",
       "  </thead>\n",
       "  <tbody>\n",
       "    <tr>\n",
       "      <th>19226</th>\n",
       "      <td>N1</td>\n",
       "      <td>427.622</td>\n",
       "      <td>RCC Girder Bridge</td>\n",
       "      <td>Wheke Kang Bridge</td>\n",
       "      <td>6.4</td>\n",
       "      <td>D</td>\n",
       "      <td>21.125104</td>\n",
       "      <td>92.191367</td>\n",
       "      <td>bridge</td>\n",
       "    </tr>\n",
       "    <tr>\n",
       "      <th>19227</th>\n",
       "      <td>N1</td>\n",
       "      <td>429.081</td>\n",
       "      <td>RCC Girder Bridge</td>\n",
       "      <td>Tasse Bridge</td>\n",
       "      <td>12.8</td>\n",
       "      <td>D</td>\n",
       "      <td>21.114558</td>\n",
       "      <td>92.198021</td>\n",
       "      <td>bridge</td>\n",
       "    </tr>\n",
       "    <tr>\n",
       "      <th>19228</th>\n",
       "      <td>N1</td>\n",
       "      <td>436.789</td>\n",
       "      <td>RCC Girder Bridge</td>\n",
       "      <td>Naya Bazar(2 Bridge</td>\n",
       "      <td>9.4</td>\n",
       "      <td>D</td>\n",
       "      <td>21.056294</td>\n",
       "      <td>92.226645</td>\n",
       "      <td>bridge</td>\n",
       "    </tr>\n",
       "    <tr>\n",
       "      <th>19229</th>\n",
       "      <td>N1</td>\n",
       "      <td>453.372</td>\n",
       "      <td>Slab Culvert</td>\n",
       "      <td>DONMIA</td>\n",
       "      <td>2.7</td>\n",
       "      <td>D</td>\n",
       "      <td>20.925389</td>\n",
       "      <td>92.264945</td>\n",
       "      <td>bridge</td>\n",
       "    </tr>\n",
       "    <tr>\n",
       "      <th>634</th>\n",
       "      <td>N1</td>\n",
       "      <td>462.254</td>\n",
       "      <td>sink</td>\n",
       "      <td>sink</td>\n",
       "      <td>0.0</td>\n",
       "      <td>A</td>\n",
       "      <td>20.862917</td>\n",
       "      <td>92.298083</td>\n",
       "      <td>sink</td>\n",
       "    </tr>\n",
       "  </tbody>\n",
       "</table>\n",
       "</div>"
      ],
      "text/plain": [
       "      road       km               type                 name  length condition  \\\n",
       "19226   N1  427.622  RCC Girder Bridge    Wheke Kang Bridge     6.4         D   \n",
       "19227   N1  429.081  RCC Girder Bridge         Tasse Bridge    12.8         D   \n",
       "19228   N1  436.789  RCC Girder Bridge  Naya Bazar(2 Bridge     9.4         D   \n",
       "19229   N1  453.372       Slab Culvert               DONMIA     2.7         D   \n",
       "634     N1  462.254               sink                 sink     0.0         A   \n",
       "\n",
       "             lat        lon model_type  \n",
       "19226  21.125104  92.191367     bridge  \n",
       "19227  21.114558  92.198021     bridge  \n",
       "19228  21.056294  92.226645     bridge  \n",
       "19229  20.925389  92.264945     bridge  \n",
       "634    20.862917  92.298083       sink  "
      ]
     },
     "execution_count": 282,
     "metadata": {},
     "output_type": "execute_result"
    }
   ],
   "source": [
    "df.tail()"
   ]
  },
  {
   "cell_type": "code",
   "execution_count": 283,
   "id": "de842f41-e56b-43d7-aaaa-c2dc8bab3e0b",
   "metadata": {
    "tags": []
   },
   "outputs": [],
   "source": [
    "df.sort_index(inplace=True) "
   ]
  },
  {
   "cell_type": "code",
   "execution_count": 284,
   "id": "cad0b1eb-d4ff-4499-96a7-6961303fdddc",
   "metadata": {
    "tags": []
   },
   "outputs": [
    {
     "data": {
      "text/html": [
       "<div>\n",
       "<style scoped>\n",
       "    .dataframe tbody tr th:only-of-type {\n",
       "        vertical-align: middle;\n",
       "    }\n",
       "\n",
       "    .dataframe tbody tr th {\n",
       "        vertical-align: top;\n",
       "    }\n",
       "\n",
       "    .dataframe thead th {\n",
       "        text-align: right;\n",
       "    }\n",
       "</style>\n",
       "<table border=\"1\" class=\"dataframe\">\n",
       "  <thead>\n",
       "    <tr style=\"text-align: right;\">\n",
       "      <th></th>\n",
       "      <th>road</th>\n",
       "      <th>km</th>\n",
       "      <th>type</th>\n",
       "      <th>name</th>\n",
       "      <th>length</th>\n",
       "      <th>condition</th>\n",
       "      <th>lat</th>\n",
       "      <th>lon</th>\n",
       "      <th>model_type</th>\n",
       "    </tr>\n",
       "  </thead>\n",
       "  <tbody>\n",
       "    <tr>\n",
       "      <th>19225</th>\n",
       "      <td>N1</td>\n",
       "      <td>426.915</td>\n",
       "      <td>RCC Girder Bridge</td>\n",
       "      <td>Balu Khali Bridge</td>\n",
       "      <td>7.9</td>\n",
       "      <td>D</td>\n",
       "      <td>21.129768</td>\n",
       "      <td>92.187047</td>\n",
       "      <td>bridge</td>\n",
       "    </tr>\n",
       "    <tr>\n",
       "      <th>19226</th>\n",
       "      <td>N1</td>\n",
       "      <td>427.622</td>\n",
       "      <td>RCC Girder Bridge</td>\n",
       "      <td>Wheke Kang Bridge</td>\n",
       "      <td>6.4</td>\n",
       "      <td>D</td>\n",
       "      <td>21.125104</td>\n",
       "      <td>92.191367</td>\n",
       "      <td>bridge</td>\n",
       "    </tr>\n",
       "    <tr>\n",
       "      <th>19227</th>\n",
       "      <td>N1</td>\n",
       "      <td>429.081</td>\n",
       "      <td>RCC Girder Bridge</td>\n",
       "      <td>Tasse Bridge</td>\n",
       "      <td>12.8</td>\n",
       "      <td>D</td>\n",
       "      <td>21.114558</td>\n",
       "      <td>92.198021</td>\n",
       "      <td>bridge</td>\n",
       "    </tr>\n",
       "    <tr>\n",
       "      <th>19228</th>\n",
       "      <td>N1</td>\n",
       "      <td>436.789</td>\n",
       "      <td>RCC Girder Bridge</td>\n",
       "      <td>Naya Bazar(2 Bridge</td>\n",
       "      <td>9.4</td>\n",
       "      <td>D</td>\n",
       "      <td>21.056294</td>\n",
       "      <td>92.226645</td>\n",
       "      <td>bridge</td>\n",
       "    </tr>\n",
       "    <tr>\n",
       "      <th>19229</th>\n",
       "      <td>N1</td>\n",
       "      <td>453.372</td>\n",
       "      <td>Slab Culvert</td>\n",
       "      <td>DONMIA</td>\n",
       "      <td>2.7</td>\n",
       "      <td>D</td>\n",
       "      <td>20.925389</td>\n",
       "      <td>92.264945</td>\n",
       "      <td>bridge</td>\n",
       "    </tr>\n",
       "  </tbody>\n",
       "</table>\n",
       "</div>"
      ],
      "text/plain": [
       "      road       km               type                 name  length condition  \\\n",
       "19225   N1  426.915  RCC Girder Bridge    Balu Khali Bridge     7.9         D   \n",
       "19226   N1  427.622  RCC Girder Bridge    Wheke Kang Bridge     6.4         D   \n",
       "19227   N1  429.081  RCC Girder Bridge         Tasse Bridge    12.8         D   \n",
       "19228   N1  436.789  RCC Girder Bridge  Naya Bazar(2 Bridge     9.4         D   \n",
       "19229   N1  453.372       Slab Culvert               DONMIA     2.7         D   \n",
       "\n",
       "             lat        lon model_type  \n",
       "19225  21.129768  92.187047     bridge  \n",
       "19226  21.125104  92.191367     bridge  \n",
       "19227  21.114558  92.198021     bridge  \n",
       "19228  21.056294  92.226645     bridge  \n",
       "19229  20.925389  92.264945     bridge  "
      ]
     },
     "execution_count": 284,
     "metadata": {},
     "output_type": "execute_result"
    }
   ],
   "source": [
    "df.tail()"
   ]
  }
 ],
 "metadata": {
  "kernelspec": {
   "display_name": "gds",
   "language": "python",
   "name": "gds"
  },
  "language_info": {
   "codemirror_mode": {
    "name": "ipython",
    "version": 3
   },
   "file_extension": ".py",
   "mimetype": "text/x-python",
   "name": "python",
   "nbconvert_exporter": "python",
   "pygments_lexer": "ipython3",
   "version": "3.9.18"
  }
 },
 "nbformat": 4,
 "nbformat_minor": 5
}
